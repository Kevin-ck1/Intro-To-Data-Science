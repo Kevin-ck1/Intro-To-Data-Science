{
  "nbformat": 4,
  "nbformat_minor": 0,
  "metadata": {
    "colab": {
      "name": "Essentials SQL Notebook - SQL Basics for Data Science",
      "provenance": [],
      "collapsed_sections": [
        "72fvcA0p3eP_",
        "cCqHYFCNO2tp",
        "wu5BHcm_KTWc",
        "qwzAwpjiKkG7",
        "1697xvW-RBSZ",
        "yy041te5Ks80",
        "3hgn7CkPQv-J",
        "n8N6UYkgRD5M",
        "u5VtCdCHK7Sz",
        "C4c7QGKPQ1Zv",
        "sOSgLCELRHop",
        "N2FhPpkQK-QJ",
        "mqifuLuwQ3wW",
        "TAfBKa86RWrK",
        "k87FSElQJpZu",
        "wW3wZgvdQjqP",
        "cysEaZORQ_Zw",
        "FEaCEc_o3t38",
        "Ncuq_Y3e3t39",
        "V_wMiubB3t4I",
        "kS0Su6b-KNS_",
        "pYD3vlpCIkwD",
        "LpEKaiDNRAXS"
      ],
      "toc_visible": true
    },
    "kernelspec": {
      "name": "python3",
      "display_name": "Python 3"
    }
  },
  "cells": [
    {
      "cell_type": "markdown",
      "metadata": {
        "id": "WufIg6DvJUnk",
        "colab_type": "text"
      },
      "source": [
        "<font color=\"blue\">To use this notebook on Colaboratory, you will need to make a copy of it. Go to File > Save a Copy in Drive. You can then use the new copy that will appear in the new tab.</font>\n"
      ]
    },
    {
      "cell_type": "markdown",
      "metadata": {
        "id": "3nMThpNtJZGC",
        "colab_type": "text"
      },
      "source": [
        "# Essentials SQL Notebook - SQL Basics for Data Science"
      ]
    },
    {
      "cell_type": "markdown",
      "metadata": {
        "colab_type": "text",
        "id": "72fvcA0p3eP_"
      },
      "source": [
        "## Connecting to our database"
      ]
    },
    {
      "cell_type": "code",
      "metadata": {
        "colab_type": "code",
        "id": "eTXRKgNf3eQb",
        "colab": {}
      },
      "source": [
        "# We will start our practice work by first loading an sql extension. \n",
        "# Notebook extensions are simple add-ons that extend the basic functionality \n",
        "# of the notebook environment. This extension will allow us to run SQL code in our Notebook.\n",
        "# ---\n",
        "#\n",
        "%load_ext sql"
      ],
      "execution_count": 2,
      "outputs": []
    },
    {
      "cell_type": "code",
      "metadata": {
        "colab_type": "code",
        "id": "po0uII6h3eQi",
        "colab": {
          "base_uri": "https://localhost:8080/",
          "height": 36
        },
        "outputId": "9dbeb558-db9c-4dc3-98fd-80f81d933039"
      },
      "source": [
        "# We then connect to an in memory SQLite database within colaboratory. \n",
        "# This in memory dataset will be deleted as soon the dataset connection is lost, \n",
        "# meaning when our connection to the servers is disconnected then our database will cease to exist.\n",
        "# ---\n",
        "#  \n",
        "%sql sqlite://"
      ],
      "execution_count": 3,
      "outputs": [
        {
          "output_type": "execute_result",
          "data": {
            "application/vnd.google.colaboratory.intrinsic+json": {
              "type": "string"
            },
            "text/plain": [
              "'Connected: @None'"
            ]
          },
          "metadata": {
            "tags": []
          },
          "execution_count": 3
        }
      ]
    },
    {
      "cell_type": "markdown",
      "metadata": {
        "id": "B-f3adZIJkZ3",
        "colab_type": "text"
      },
      "source": [
        "## 1. Loading our dataset"
      ]
    },
    {
      "cell_type": "code",
      "metadata": {
        "id": "WtHIEa855IXF",
        "colab_type": "code",
        "colab": {}
      },
      "source": [
        "# To read our csv file from an external source into our colaboratory environment, \n",
        "# we will use the pandas library for data maninupation. So, let's load it.\n",
        "# Don't worry about this library now, we will cover it in future sessions.\n",
        "# ---\n",
        "#\n",
        "import pandas as pd"
      ],
      "execution_count": 4,
      "outputs": []
    },
    {
      "cell_type": "markdown",
      "metadata": {
        "colab_type": "text",
        "id": "QGecSPyuGUHN"
      },
      "source": [
        "### <font color=\"blue\">Example</font>"
      ]
    },
    {
      "cell_type": "code",
      "metadata": {
        "id": "XkplS_rTJFhN",
        "colab_type": "code",
        "colab": {
          "base_uri": "https://localhost:8080/",
          "height": 238
        },
        "outputId": "298727e4-e9c5-42f3-989f-fbad99a97aec"
      },
      "source": [
        "# Example \n",
        "# ---\n",
        "# We will load our first dataset from a csv file as shown and afterwords, \n",
        "# store that dataset in our in memory sqlite database.\n",
        "# ---\n",
        "\n",
        "# We read our dataset from its source and store it in a dataframe called cities.\n",
        "# ---\n",
        "#\n",
        "cities = pd.read_csv('http://bit.ly/CItiesDB') \n",
        "\n",
        "# We then delete the table if it exists in our database\n",
        "# ---\n",
        "#\n",
        "%sql DROP TABLE if EXISTS cities;\n",
        "\n",
        "# We then store this table in a table called 'cities' within our in memory dataset.\n",
        "# The persist command that we will create will help us do this. \n",
        "# NB: The table name will be the same as variable name above.\n",
        "# ---\n",
        "#\n",
        "%sql PERSIST cities;\n",
        "\n",
        "# We can then select the first five records of our created cities table.\n",
        "# This will help us know whether our table was created.\n",
        "# ---\n",
        "#\n",
        "%sql SELECT * FROM cities LIMIT 5;"
      ],
      "execution_count": 5,
      "outputs": [
        {
          "output_type": "stream",
          "text": [
            " * sqlite://\n",
            "Done.\n",
            " * sqlite://\n",
            " * sqlite://\n",
            "Done.\n"
          ],
          "name": "stdout"
        },
        {
          "output_type": "execute_result",
          "data": {
            "text/html": [
              "<table>\n",
              "    <tr>\n",
              "        <th>index</th>\n",
              "        <th>city</th>\n",
              "        <th>country</th>\n",
              "        <th>latitude</th>\n",
              "        <th>longitude</th>\n",
              "        <th>temperature</th>\n",
              "    </tr>\n",
              "    <tr>\n",
              "        <td>0</td>\n",
              "        <td>Aalborg</td>\n",
              "        <td>Denmark</td>\n",
              "        <td>57.03</td>\n",
              "        <td>9.92</td>\n",
              "        <td>7.52</td>\n",
              "    </tr>\n",
              "    <tr>\n",
              "        <td>1</td>\n",
              "        <td>Aberdeen</td>\n",
              "        <td>United Kingdom</td>\n",
              "        <td>57.17</td>\n",
              "        <td>-2.08</td>\n",
              "        <td>8.1</td>\n",
              "    </tr>\n",
              "    <tr>\n",
              "        <td>2</td>\n",
              "        <td>Abisko</td>\n",
              "        <td>Sweden</td>\n",
              "        <td>63.35</td>\n",
              "        <td>18.83</td>\n",
              "        <td>0.2</td>\n",
              "    </tr>\n",
              "    <tr>\n",
              "        <td>3</td>\n",
              "        <td>Adana</td>\n",
              "        <td>Turkey</td>\n",
              "        <td>36.99</td>\n",
              "        <td>35.32</td>\n",
              "        <td>18.67</td>\n",
              "    </tr>\n",
              "    <tr>\n",
              "        <td>4</td>\n",
              "        <td>Albacete</td>\n",
              "        <td>Spain</td>\n",
              "        <td>39.0</td>\n",
              "        <td>-1.87</td>\n",
              "        <td>12.62</td>\n",
              "    </tr>\n",
              "</table>"
            ],
            "text/plain": [
              "[(0, 'Aalborg', 'Denmark', 57.03, 9.92, 7.52),\n",
              " (1, 'Aberdeen', 'United Kingdom', 57.17, -2.08, 8.1),\n",
              " (2, 'Abisko', 'Sweden', 63.35, 18.83, 0.2),\n",
              " (3, 'Adana', 'Turkey', 36.99, 35.32, 18.67),\n",
              " (4, 'Albacete', 'Spain', 39.0, -1.87, 12.62)]"
            ]
          },
          "metadata": {
            "tags": []
          },
          "execution_count": 5
        }
      ]
    },
    {
      "cell_type": "markdown",
      "metadata": {
        "id": "cCqHYFCNO2tp",
        "colab_type": "text"
      },
      "source": [
        "### <font color=\"green\">Challenge</font> "
      ]
    },
    {
      "cell_type": "code",
      "metadata": {
        "id": "Wo245yX5O3f4",
        "colab_type": "code",
        "colab": {
          "base_uri": "https://localhost:8080/",
          "height": 238
        },
        "outputId": "4898e3f0-6b5c-41a8-b28b-cd391481a4ae"
      },
      "source": [
        "# Challenge: \n",
        "# ---\n",
        "# Question: Load and check the countries dataset from the following url\n",
        "# ---\n",
        "# Dataset url = http://bit.ly/CountriesDB1\n",
        "# ---\n",
        "# YOUR CODE GOES BELOW\n",
        "# ---\n",
        "#\n",
        "\n",
        "countries = pd.read_csv('http://bit.ly/CountriesDB1')\n",
        "\n",
        "%sql DROP TABLE if EXISTS countries;\n",
        "\n",
        "\n",
        "% sql PERSIST countries;\n",
        "\n",
        "%sql SELECT * FROM countries LIMIT 5;"
      ],
      "execution_count": 6,
      "outputs": [
        {
          "output_type": "stream",
          "text": [
            " * sqlite://\n",
            "Done.\n",
            " * sqlite://\n",
            " * sqlite://\n",
            "Done.\n"
          ],
          "name": "stdout"
        },
        {
          "output_type": "execute_result",
          "data": {
            "text/html": [
              "<table>\n",
              "    <tr>\n",
              "        <th>index</th>\n",
              "        <th>country</th>\n",
              "        <th>population</th>\n",
              "        <th>EU</th>\n",
              "        <th>coastline</th>\n",
              "    </tr>\n",
              "    <tr>\n",
              "        <td>0</td>\n",
              "        <td>Albania</td>\n",
              "        <td>2.9</td>\n",
              "        <td>no</td>\n",
              "        <td>yes</td>\n",
              "    </tr>\n",
              "    <tr>\n",
              "        <td>1</td>\n",
              "        <td>Andorra</td>\n",
              "        <td>0.07</td>\n",
              "        <td>no</td>\n",
              "        <td>no</td>\n",
              "    </tr>\n",
              "    <tr>\n",
              "        <td>2</td>\n",
              "        <td>Austria</td>\n",
              "        <td>8.57</td>\n",
              "        <td>yes</td>\n",
              "        <td>no</td>\n",
              "    </tr>\n",
              "    <tr>\n",
              "        <td>3</td>\n",
              "        <td>Belarus</td>\n",
              "        <td>9.48</td>\n",
              "        <td>no</td>\n",
              "        <td>no</td>\n",
              "    </tr>\n",
              "    <tr>\n",
              "        <td>4</td>\n",
              "        <td>Belgium</td>\n",
              "        <td>11.37</td>\n",
              "        <td>yes</td>\n",
              "        <td>yes</td>\n",
              "    </tr>\n",
              "</table>"
            ],
            "text/plain": [
              "[(0, 'Albania', 2.9, 'no', 'yes'),\n",
              " (1, 'Andorra', 0.07, 'no', 'no'),\n",
              " (2, 'Austria', 8.57, 'yes', 'no'),\n",
              " (3, 'Belarus', 9.48, 'no', 'no'),\n",
              " (4, 'Belgium', 11.37, 'yes', 'yes')]"
            ]
          },
          "metadata": {
            "tags": []
          },
          "execution_count": 6
        }
      ]
    },
    {
      "cell_type": "markdown",
      "metadata": {
        "id": "wu5BHcm_KTWc",
        "colab_type": "text"
      },
      "source": [
        "## 2. Selecting data from a table"
      ]
    },
    {
      "cell_type": "markdown",
      "metadata": {
        "id": "qwzAwpjiKkG7",
        "colab_type": "text"
      },
      "source": [
        "###<font color=\"blue\">Examples</font>"
      ]
    },
    {
      "cell_type": "code",
      "metadata": {
        "colab_type": "code",
        "id": "Kyjr75y-Qpv8",
        "colab": {
          "base_uri": "https://localhost:8080/",
          "height": 1000
        },
        "outputId": "27d5c741-1a67-4bcf-bfad-b9d1c562f2aa"
      },
      "source": [
        "# Example 1: We can select all records from a columns as shown:\n",
        "# ---\n",
        "# Selecting all records from the temperature column.\n",
        "# ---\n",
        "#\n",
        "%%sql\n",
        "SELECT temperature FROM cities;"
      ],
      "execution_count": 11,
      "outputs": [
        {
          "output_type": "stream",
          "text": [
            " * sqlite://\n",
            "Done.\n"
          ],
          "name": "stdout"
        },
        {
          "output_type": "execute_result",
          "data": {
            "text/html": [
              "<table>\n",
              "    <tr>\n",
              "        <th>temperature</th>\n",
              "    </tr>\n",
              "    <tr>\n",
              "        <td>7.52</td>\n",
              "    </tr>\n",
              "    <tr>\n",
              "        <td>8.1</td>\n",
              "    </tr>\n",
              "    <tr>\n",
              "        <td>0.2</td>\n",
              "    </tr>\n",
              "    <tr>\n",
              "        <td>18.67</td>\n",
              "    </tr>\n",
              "    <tr>\n",
              "        <td>12.62</td>\n",
              "    </tr>\n",
              "    <tr>\n",
              "        <td>17.38</td>\n",
              "    </tr>\n",
              "    <tr>\n",
              "        <td>10.17</td>\n",
              "    </tr>\n",
              "    <tr>\n",
              "        <td>8.93</td>\n",
              "    </tr>\n",
              "    <tr>\n",
              "        <td>13.52</td>\n",
              "    </tr>\n",
              "    <tr>\n",
              "        <td>9.6</td>\n",
              "    </tr>\n",
              "    <tr>\n",
              "        <td>10.98</td>\n",
              "    </tr>\n",
              "    <tr>\n",
              "        <td>9.86</td>\n",
              "    </tr>\n",
              "    <tr>\n",
              "        <td>11.88</td>\n",
              "    </tr>\n",
              "    <tr>\n",
              "        <td>9.32</td>\n",
              "    </tr>\n",
              "    <tr>\n",
              "        <td>17.41</td>\n",
              "    </tr>\n",
              "    <tr>\n",
              "        <td>4.54</td>\n",
              "    </tr>\n",
              "    <tr>\n",
              "        <td>7.51</td>\n",
              "    </tr>\n",
              "    <tr>\n",
              "        <td>15.61</td>\n",
              "    </tr>\n",
              "    <tr>\n",
              "        <td>8.87</td>\n",
              "    </tr>\n",
              "    <tr>\n",
              "        <td>8.23</td>\n",
              "    </tr>\n",
              "    <tr>\n",
              "        <td>15.78</td>\n",
              "    </tr>\n",
              "    <tr>\n",
              "        <td>15.15</td>\n",
              "    </tr>\n",
              "    <tr>\n",
              "        <td>6.68</td>\n",
              "    </tr>\n",
              "    <tr>\n",
              "        <td>14.16</td>\n",
              "    </tr>\n",
              "    <tr>\n",
              "        <td>8.48</td>\n",
              "    </tr>\n",
              "    <tr>\n",
              "        <td>9.85</td>\n",
              "    </tr>\n",
              "    <tr>\n",
              "        <td>9.12</td>\n",
              "    </tr>\n",
              "    <tr>\n",
              "        <td>1.75</td>\n",
              "    </tr>\n",
              "    <tr>\n",
              "        <td>8.72</td>\n",
              "    </tr>\n",
              "    <tr>\n",
              "        <td>6.07</td>\n",
              "    </tr>\n",
              "    <tr>\n",
              "        <td>8.78</td>\n",
              "    </tr>\n",
              "    <tr>\n",
              "        <td>6.98</td>\n",
              "    </tr>\n",
              "    <tr>\n",
              "        <td>11.41</td>\n",
              "    </tr>\n",
              "    <tr>\n",
              "        <td>8.81</td>\n",
              "    </tr>\n",
              "    <tr>\n",
              "        <td>9.15</td>\n",
              "    </tr>\n",
              "    <tr>\n",
              "        <td>4.5</td>\n",
              "    </tr>\n",
              "    <tr>\n",
              "        <td>11.69</td>\n",
              "    </tr>\n",
              "    <tr>\n",
              "        <td>8.63</td>\n",
              "    </tr>\n",
              "    <tr>\n",
              "        <td>11.87</td>\n",
              "    </tr>\n",
              "    <tr>\n",
              "        <td>8.23</td>\n",
              "    </tr>\n",
              "    <tr>\n",
              "        <td>9.97</td>\n",
              "    </tr>\n",
              "    <tr>\n",
              "        <td>8.39</td>\n",
              "    </tr>\n",
              "    <tr>\n",
              "        <td>13.42</td>\n",
              "    </tr>\n",
              "    <tr>\n",
              "        <td>9.78</td>\n",
              "    </tr>\n",
              "    <tr>\n",
              "        <td>9.65</td>\n",
              "    </tr>\n",
              "    <tr>\n",
              "        <td>8.14</td>\n",
              "    </tr>\n",
              "    <tr>\n",
              "        <td>11.02</td>\n",
              "    </tr>\n",
              "    <tr>\n",
              "        <td>6.73</td>\n",
              "    </tr>\n",
              "    <tr>\n",
              "        <td>7.86</td>\n",
              "    </tr>\n",
              "    <tr>\n",
              "        <td>9.65</td>\n",
              "    </tr>\n",
              "    <tr>\n",
              "        <td>10.59</td>\n",
              "    </tr>\n",
              "    <tr>\n",
              "        <td>9.55</td>\n",
              "    </tr>\n",
              "    <tr>\n",
              "        <td>11.93</td>\n",
              "    </tr>\n",
              "    <tr>\n",
              "        <td>10.45</td>\n",
              "    </tr>\n",
              "    <tr>\n",
              "        <td>11.16</td>\n",
              "    </tr>\n",
              "    <tr>\n",
              "        <td>7.14</td>\n",
              "    </tr>\n",
              "    <tr>\n",
              "        <td>7.66</td>\n",
              "    </tr>\n",
              "    <tr>\n",
              "        <td>9.96</td>\n",
              "    </tr>\n",
              "    <tr>\n",
              "        <td>9.25</td>\n",
              "    </tr>\n",
              "    <tr>\n",
              "        <td>17.32</td>\n",
              "    </tr>\n",
              "    <tr>\n",
              "        <td>15.04</td>\n",
              "    </tr>\n",
              "    <tr>\n",
              "        <td>8.05</td>\n",
              "    </tr>\n",
              "    <tr>\n",
              "        <td>7.19</td>\n",
              "    </tr>\n",
              "    <tr>\n",
              "        <td>5.92</td>\n",
              "    </tr>\n",
              "    <tr>\n",
              "        <td>7.06</td>\n",
              "    </tr>\n",
              "    <tr>\n",
              "        <td>8.6</td>\n",
              "    </tr>\n",
              "    <tr>\n",
              "        <td>11.24</td>\n",
              "    </tr>\n",
              "    <tr>\n",
              "        <td>9.41</td>\n",
              "    </tr>\n",
              "    <tr>\n",
              "        <td>16.6</td>\n",
              "    </tr>\n",
              "    <tr>\n",
              "        <td>10.51</td>\n",
              "    </tr>\n",
              "    <tr>\n",
              "        <td>5.38</td>\n",
              "    </tr>\n",
              "    <tr>\n",
              "        <td>8.87</td>\n",
              "    </tr>\n",
              "    <tr>\n",
              "        <td>15.02</td>\n",
              "    </tr>\n",
              "    <tr>\n",
              "        <td>8.69</td>\n",
              "    </tr>\n",
              "    <tr>\n",
              "        <td>8.49</td>\n",
              "    </tr>\n",
              "    <tr>\n",
              "        <td>6.4</td>\n",
              "    </tr>\n",
              "    <tr>\n",
              "        <td>7.43</td>\n",
              "    </tr>\n",
              "    <tr>\n",
              "        <td>10.9</td>\n",
              "    </tr>\n",
              "    <tr>\n",
              "        <td>15.18</td>\n",
              "    </tr>\n",
              "    <tr>\n",
              "        <td>6.68</td>\n",
              "    </tr>\n",
              "    <tr>\n",
              "        <td>7.4</td>\n",
              "    </tr>\n",
              "    <tr>\n",
              "        <td>8.67</td>\n",
              "    </tr>\n",
              "    <tr>\n",
              "        <td>5.17</td>\n",
              "    </tr>\n",
              "    <tr>\n",
              "        <td>11.11</td>\n",
              "    </tr>\n",
              "    <tr>\n",
              "        <td>10.14</td>\n",
              "    </tr>\n",
              "    <tr>\n",
              "        <td>13.83</td>\n",
              "    </tr>\n",
              "    <tr>\n",
              "        <td>7.98</td>\n",
              "    </tr>\n",
              "    <tr>\n",
              "        <td>6.68</td>\n",
              "    </tr>\n",
              "    <tr>\n",
              "        <td>10.0</td>\n",
              "    </tr>\n",
              "    <tr>\n",
              "        <td>13.46</td>\n",
              "    </tr>\n",
              "    <tr>\n",
              "        <td>8.4</td>\n",
              "    </tr>\n",
              "    <tr>\n",
              "        <td>12.94</td>\n",
              "    </tr>\n",
              "    <tr>\n",
              "        <td>8.6</td>\n",
              "    </tr>\n",
              "    <tr>\n",
              "        <td>5.76</td>\n",
              "    </tr>\n",
              "    <tr>\n",
              "        <td>16.33</td>\n",
              "    </tr>\n",
              "    <tr>\n",
              "        <td>6.91</td>\n",
              "    </tr>\n",
              "    <tr>\n",
              "        <td>8.4</td>\n",
              "    </tr>\n",
              "    <tr>\n",
              "        <td>8.71</td>\n",
              "    </tr>\n",
              "    <tr>\n",
              "        <td>9.65</td>\n",
              "    </tr>\n",
              "    <tr>\n",
              "        <td>8.47</td>\n",
              "    </tr>\n",
              "    <tr>\n",
              "        <td>4.19</td>\n",
              "    </tr>\n",
              "    <tr>\n",
              "        <td>7.12</td>\n",
              "    </tr>\n",
              "    <tr>\n",
              "        <td>6.07</td>\n",
              "    </tr>\n",
              "    <tr>\n",
              "        <td>17.09</td>\n",
              "    </tr>\n",
              "    <tr>\n",
              "        <td>7.57</td>\n",
              "    </tr>\n",
              "    <tr>\n",
              "        <td>4.54</td>\n",
              "    </tr>\n",
              "    <tr>\n",
              "        <td>8.0</td>\n",
              "    </tr>\n",
              "    <tr>\n",
              "        <td>13.2</td>\n",
              "    </tr>\n",
              "    <tr>\n",
              "        <td>17.3</td>\n",
              "    </tr>\n",
              "    <tr>\n",
              "        <td>10.41</td>\n",
              "    </tr>\n",
              "    <tr>\n",
              "        <td>8.88</td>\n",
              "    </tr>\n",
              "    <tr>\n",
              "        <td>6.05</td>\n",
              "    </tr>\n",
              "    <tr>\n",
              "        <td>8.89</td>\n",
              "    </tr>\n",
              "    <tr>\n",
              "        <td>8.64</td>\n",
              "    </tr>\n",
              "    <tr>\n",
              "        <td>7.29</td>\n",
              "    </tr>\n",
              "    <tr>\n",
              "        <td>6.88</td>\n",
              "    </tr>\n",
              "    <tr>\n",
              "        <td>-2.2</td>\n",
              "    </tr>\n",
              "    <tr>\n",
              "        <td>7.0</td>\n",
              "    </tr>\n",
              "    <tr>\n",
              "        <td>7.31</td>\n",
              "    </tr>\n",
              "    <tr>\n",
              "        <td>7.73</td>\n",
              "    </tr>\n",
              "    <tr>\n",
              "        <td>7.43</td>\n",
              "    </tr>\n",
              "    <tr>\n",
              "        <td>8.61</td>\n",
              "    </tr>\n",
              "    <tr>\n",
              "        <td>10.59</td>\n",
              "    </tr>\n",
              "    <tr>\n",
              "        <td>9.65</td>\n",
              "    </tr>\n",
              "    <tr>\n",
              "        <td>10.32</td>\n",
              "    </tr>\n",
              "    <tr>\n",
              "        <td>6.79</td>\n",
              "    </tr>\n",
              "    <tr>\n",
              "        <td>15.52</td>\n",
              "    </tr>\n",
              "    <tr>\n",
              "        <td>9.27</td>\n",
              "    </tr>\n",
              "    <tr>\n",
              "        <td>7.04</td>\n",
              "    </tr>\n",
              "    <tr>\n",
              "        <td>8.63</td>\n",
              "    </tr>\n",
              "    <tr>\n",
              "        <td>11.19</td>\n",
              "    </tr>\n",
              "    <tr>\n",
              "        <td>8.26</td>\n",
              "    </tr>\n",
              "    <tr>\n",
              "        <td>8.7</td>\n",
              "    </tr>\n",
              "    <tr>\n",
              "        <td>14.13</td>\n",
              "    </tr>\n",
              "    <tr>\n",
              "        <td>7.33</td>\n",
              "    </tr>\n",
              "    <tr>\n",
              "        <td>15.1</td>\n",
              "    </tr>\n",
              "    <tr>\n",
              "        <td>17.19</td>\n",
              "    </tr>\n",
              "    <tr>\n",
              "        <td>14.98</td>\n",
              "    </tr>\n",
              "    <tr>\n",
              "        <td>6.25</td>\n",
              "    </tr>\n",
              "    <tr>\n",
              "        <td>16.54</td>\n",
              "    </tr>\n",
              "    <tr>\n",
              "        <td>8.88</td>\n",
              "    </tr>\n",
              "    <tr>\n",
              "        <td>6.65</td>\n",
              "    </tr>\n",
              "    <tr>\n",
              "        <td>5.28</td>\n",
              "    </tr>\n",
              "    <tr>\n",
              "        <td>11.11</td>\n",
              "    </tr>\n",
              "    <tr>\n",
              "        <td>6.68</td>\n",
              "    </tr>\n",
              "    <tr>\n",
              "        <td>15.0</td>\n",
              "    </tr>\n",
              "    <tr>\n",
              "        <td>8.82</td>\n",
              "    </tr>\n",
              "    <tr>\n",
              "        <td>9.36</td>\n",
              "    </tr>\n",
              "    <tr>\n",
              "        <td>10.34</td>\n",
              "    </tr>\n",
              "    <tr>\n",
              "        <td>7.73</td>\n",
              "    </tr>\n",
              "    <tr>\n",
              "        <td>11.92</td>\n",
              "    </tr>\n",
              "    <tr>\n",
              "        <td>4.93</td>\n",
              "    </tr>\n",
              "    <tr>\n",
              "        <td>2.32</td>\n",
              "    </tr>\n",
              "    <tr>\n",
              "        <td>7.66</td>\n",
              "    </tr>\n",
              "    <tr>\n",
              "        <td>1.45</td>\n",
              "    </tr>\n",
              "    <tr>\n",
              "        <td>10.85</td>\n",
              "    </tr>\n",
              "    <tr>\n",
              "        <td>17.9</td>\n",
              "    </tr>\n",
              "    <tr>\n",
              "        <td>16.9</td>\n",
              "    </tr>\n",
              "    <tr>\n",
              "        <td>10.95</td>\n",
              "    </tr>\n",
              "    <tr>\n",
              "        <td>11.7</td>\n",
              "    </tr>\n",
              "    <tr>\n",
              "        <td>15.13</td>\n",
              "    </tr>\n",
              "    <tr>\n",
              "        <td>6.42</td>\n",
              "    </tr>\n",
              "    <tr>\n",
              "        <td>10.51</td>\n",
              "    </tr>\n",
              "    <tr>\n",
              "        <td>8.27</td>\n",
              "    </tr>\n",
              "    <tr>\n",
              "        <td>9.99</td>\n",
              "    </tr>\n",
              "    <tr>\n",
              "        <td>8.31</td>\n",
              "    </tr>\n",
              "    <tr>\n",
              "        <td>8.05</td>\n",
              "    </tr>\n",
              "    <tr>\n",
              "        <td>9.4</td>\n",
              "    </tr>\n",
              "    <tr>\n",
              "        <td>5.16</td>\n",
              "    </tr>\n",
              "    <tr>\n",
              "        <td>9.27</td>\n",
              "    </tr>\n",
              "    <tr>\n",
              "        <td>6.76</td>\n",
              "    </tr>\n",
              "    <tr>\n",
              "        <td>15.1</td>\n",
              "    </tr>\n",
              "    <tr>\n",
              "        <td>8.07</td>\n",
              "    </tr>\n",
              "    <tr>\n",
              "        <td>10.59</td>\n",
              "    </tr>\n",
              "    <tr>\n",
              "        <td>11.63</td>\n",
              "    </tr>\n",
              "    <tr>\n",
              "        <td>4.62</td>\n",
              "    </tr>\n",
              "    <tr>\n",
              "        <td>12.05</td>\n",
              "    </tr>\n",
              "    <tr>\n",
              "        <td>13.4</td>\n",
              "    </tr>\n",
              "    <tr>\n",
              "        <td>9.6</td>\n",
              "    </tr>\n",
              "    <tr>\n",
              "        <td>6.97</td>\n",
              "    </tr>\n",
              "    <tr>\n",
              "        <td>12.48</td>\n",
              "    </tr>\n",
              "    <tr>\n",
              "        <td>8.05</td>\n",
              "    </tr>\n",
              "    <tr>\n",
              "        <td>9.36</td>\n",
              "    </tr>\n",
              "    <tr>\n",
              "        <td>12.46</td>\n",
              "    </tr>\n",
              "    <tr>\n",
              "        <td>10.9</td>\n",
              "    </tr>\n",
              "    <tr>\n",
              "        <td>5.53</td>\n",
              "    </tr>\n",
              "    <tr>\n",
              "        <td>6.26</td>\n",
              "    </tr>\n",
              "    <tr>\n",
              "        <td>6.28</td>\n",
              "    </tr>\n",
              "    <tr>\n",
              "        <td>9.73</td>\n",
              "    </tr>\n",
              "    <tr>\n",
              "        <td>10.34</td>\n",
              "    </tr>\n",
              "    <tr>\n",
              "        <td>4.82</td>\n",
              "    </tr>\n",
              "    <tr>\n",
              "        <td>3.59</td>\n",
              "    </tr>\n",
              "    <tr>\n",
              "        <td>11.21</td>\n",
              "    </tr>\n",
              "    <tr>\n",
              "        <td>4.36</td>\n",
              "    </tr>\n",
              "    <tr>\n",
              "        <td>13.02</td>\n",
              "    </tr>\n",
              "    <tr>\n",
              "        <td>10.25</td>\n",
              "    </tr>\n",
              "    <tr>\n",
              "        <td>10.28</td>\n",
              "    </tr>\n",
              "    <tr>\n",
              "        <td>11.21</td>\n",
              "    </tr>\n",
              "    <tr>\n",
              "        <td>16.0</td>\n",
              "    </tr>\n",
              "    <tr>\n",
              "        <td>4.53</td>\n",
              "    </tr>\n",
              "    <tr>\n",
              "        <td>4.72</td>\n",
              "    </tr>\n",
              "    <tr>\n",
              "        <td>4.17</td>\n",
              "    </tr>\n",
              "    <tr>\n",
              "        <td>16.02</td>\n",
              "    </tr>\n",
              "    <tr>\n",
              "        <td>7.86</td>\n",
              "    </tr>\n",
              "    <tr>\n",
              "        <td>12.85</td>\n",
              "    </tr>\n",
              "    <tr>\n",
              "        <td>5.38</td>\n",
              "    </tr>\n",
              "    <tr>\n",
              "        <td>7.2</td>\n",
              "    </tr>\n",
              "    <tr>\n",
              "        <td>7.17</td>\n",
              "    </tr>\n",
              "    <tr>\n",
              "        <td>10.02</td>\n",
              "    </tr>\n",
              "    <tr>\n",
              "        <td>14.17</td>\n",
              "    </tr>\n",
              "    <tr>\n",
              "        <td>6.67</td>\n",
              "    </tr>\n",
              "    <tr>\n",
              "        <td>10.64</td>\n",
              "    </tr>\n",
              "    <tr>\n",
              "        <td>6.68</td>\n",
              "    </tr>\n",
              "</table>"
            ],
            "text/plain": [
              "[(7.52,),\n",
              " (8.1,),\n",
              " (0.2,),\n",
              " (18.67,),\n",
              " (12.62,),\n",
              " (17.38,),\n",
              " (10.17,),\n",
              " (8.93,),\n",
              " (13.52,),\n",
              " (9.6,),\n",
              " (10.98,),\n",
              " (9.86,),\n",
              " (11.88,),\n",
              " (9.32,),\n",
              " (17.41,),\n",
              " (4.54,),\n",
              " (7.51,),\n",
              " (15.61,),\n",
              " (8.87,),\n",
              " (8.23,),\n",
              " (15.78,),\n",
              " (15.15,),\n",
              " (6.68,),\n",
              " (14.16,),\n",
              " (8.48,),\n",
              " (9.85,),\n",
              " (9.12,),\n",
              " (1.75,),\n",
              " (8.72,),\n",
              " (6.07,),\n",
              " (8.78,),\n",
              " (6.98,),\n",
              " (11.41,),\n",
              " (8.81,),\n",
              " (9.15,),\n",
              " (4.5,),\n",
              " (11.69,),\n",
              " (8.63,),\n",
              " (11.87,),\n",
              " (8.23,),\n",
              " (9.97,),\n",
              " (8.39,),\n",
              " (13.42,),\n",
              " (9.78,),\n",
              " (9.65,),\n",
              " (8.14,),\n",
              " (11.02,),\n",
              " (6.73,),\n",
              " (7.86,),\n",
              " (9.65,),\n",
              " (10.59,),\n",
              " (9.55,),\n",
              " (11.93,),\n",
              " (10.45,),\n",
              " (11.16,),\n",
              " (7.14,),\n",
              " (7.66,),\n",
              " (9.96,),\n",
              " (9.25,),\n",
              " (17.32,),\n",
              " (15.04,),\n",
              " (8.05,),\n",
              " (7.19,),\n",
              " (5.92,),\n",
              " (7.06,),\n",
              " (8.6,),\n",
              " (11.24,),\n",
              " (9.41,),\n",
              " (16.6,),\n",
              " (10.51,),\n",
              " (5.38,),\n",
              " (8.87,),\n",
              " (15.02,),\n",
              " (8.69,),\n",
              " (8.49,),\n",
              " (6.4,),\n",
              " (7.43,),\n",
              " (10.9,),\n",
              " (15.18,),\n",
              " (6.68,),\n",
              " (7.4,),\n",
              " (8.67,),\n",
              " (5.17,),\n",
              " (11.11,),\n",
              " (10.14,),\n",
              " (13.83,),\n",
              " (7.98,),\n",
              " (6.68,),\n",
              " (10.0,),\n",
              " (13.46,),\n",
              " (8.4,),\n",
              " (12.94,),\n",
              " (8.6,),\n",
              " (5.76,),\n",
              " (16.33,),\n",
              " (6.91,),\n",
              " (8.4,),\n",
              " (8.71,),\n",
              " (9.65,),\n",
              " (8.47,),\n",
              " (4.19,),\n",
              " (7.12,),\n",
              " (6.07,),\n",
              " (17.09,),\n",
              " (7.57,),\n",
              " (4.54,),\n",
              " (8.0,),\n",
              " (13.2,),\n",
              " (17.3,),\n",
              " (10.41,),\n",
              " (8.88,),\n",
              " (6.05,),\n",
              " (8.89,),\n",
              " (8.64,),\n",
              " (7.29,),\n",
              " (6.88,),\n",
              " (-2.2,),\n",
              " (7.0,),\n",
              " (7.31,),\n",
              " (7.73,),\n",
              " (7.43,),\n",
              " (8.61,),\n",
              " (10.59,),\n",
              " (9.65,),\n",
              " (10.32,),\n",
              " (6.79,),\n",
              " (15.52,),\n",
              " (9.27,),\n",
              " (7.04,),\n",
              " (8.63,),\n",
              " (11.19,),\n",
              " (8.26,),\n",
              " (8.7,),\n",
              " (14.13,),\n",
              " (7.33,),\n",
              " (15.1,),\n",
              " (17.19,),\n",
              " (14.98,),\n",
              " (6.25,),\n",
              " (16.54,),\n",
              " (8.88,),\n",
              " (6.65,),\n",
              " (5.28,),\n",
              " (11.11,),\n",
              " (6.68,),\n",
              " (15.0,),\n",
              " (8.82,),\n",
              " (9.36,),\n",
              " (10.34,),\n",
              " (7.73,),\n",
              " (11.92,),\n",
              " (4.93,),\n",
              " (2.32,),\n",
              " (7.66,),\n",
              " (1.45,),\n",
              " (10.85,),\n",
              " (17.9,),\n",
              " (16.9,),\n",
              " (10.95,),\n",
              " (11.7,),\n",
              " (15.13,),\n",
              " (6.42,),\n",
              " (10.51,),\n",
              " (8.27,),\n",
              " (9.99,),\n",
              " (8.31,),\n",
              " (8.05,),\n",
              " (9.4,),\n",
              " (5.16,),\n",
              " (9.27,),\n",
              " (6.76,),\n",
              " (15.1,),\n",
              " (8.07,),\n",
              " (10.59,),\n",
              " (11.63,),\n",
              " (4.62,),\n",
              " (12.05,),\n",
              " (13.4,),\n",
              " (9.6,),\n",
              " (6.97,),\n",
              " (12.48,),\n",
              " (8.05,),\n",
              " (9.36,),\n",
              " (12.46,),\n",
              " (10.9,),\n",
              " (5.53,),\n",
              " (6.26,),\n",
              " (6.28,),\n",
              " (9.73,),\n",
              " (10.34,),\n",
              " (4.82,),\n",
              " (3.59,),\n",
              " (11.21,),\n",
              " (4.36,),\n",
              " (13.02,),\n",
              " (10.25,),\n",
              " (10.28,),\n",
              " (11.21,),\n",
              " (16.0,),\n",
              " (4.53,),\n",
              " (4.72,),\n",
              " (4.17,),\n",
              " (16.02,),\n",
              " (7.86,),\n",
              " (12.85,),\n",
              " (5.38,),\n",
              " (7.2,),\n",
              " (7.17,),\n",
              " (10.02,),\n",
              " (14.17,),\n",
              " (6.67,),\n",
              " (10.64,),\n",
              " (6.68,)]"
            ]
          },
          "metadata": {
            "tags": []
          },
          "execution_count": 11
        }
      ]
    },
    {
      "cell_type": "code",
      "metadata": {
        "id": "GNSazEhmK9oa",
        "colab_type": "code",
        "colab": {
          "base_uri": "https://localhost:8080/",
          "height": 184
        },
        "outputId": "b54f4cd7-f858-4af4-8965-699f2a7fe908"
      },
      "source": [
        "# Example 2: We can limit the no. of fetched records using the LIMIT keyword as shown:\n",
        "# ---\n",
        "#\n",
        "%%sql\n",
        "SELECT temperature FROM cities LIMIT 5;"
      ],
      "execution_count": 12,
      "outputs": [
        {
          "output_type": "stream",
          "text": [
            " * sqlite://\n",
            "Done.\n"
          ],
          "name": "stdout"
        },
        {
          "output_type": "execute_result",
          "data": {
            "text/html": [
              "<table>\n",
              "    <tr>\n",
              "        <th>temperature</th>\n",
              "    </tr>\n",
              "    <tr>\n",
              "        <td>7.52</td>\n",
              "    </tr>\n",
              "    <tr>\n",
              "        <td>8.1</td>\n",
              "    </tr>\n",
              "    <tr>\n",
              "        <td>0.2</td>\n",
              "    </tr>\n",
              "    <tr>\n",
              "        <td>18.67</td>\n",
              "    </tr>\n",
              "    <tr>\n",
              "        <td>12.62</td>\n",
              "    </tr>\n",
              "</table>"
            ],
            "text/plain": [
              "[(7.52,), (8.1,), (0.2,), (18.67,), (12.62,)]"
            ]
          },
          "metadata": {
            "tags": []
          },
          "execution_count": 12
        }
      ]
    },
    {
      "cell_type": "code",
      "metadata": {
        "id": "ZDQQ9rlxLadL",
        "colab_type": "code",
        "colab": {
          "base_uri": "https://localhost:8080/",
          "height": 867
        },
        "outputId": "e56a324d-457d-48e8-eed8-c3773cd69b37"
      },
      "source": [
        "# Example 3: We can select distinct items from a single column using the DISTINCT keyword as shown:\n",
        "# ---  \n",
        "#\n",
        "%%sql\n",
        "SELECT DISTINCT country FROM cities;"
      ],
      "execution_count": 13,
      "outputs": [
        {
          "output_type": "stream",
          "text": [
            " * sqlite://\n",
            "Done.\n"
          ],
          "name": "stdout"
        },
        {
          "output_type": "execute_result",
          "data": {
            "text/html": [
              "<table>\n",
              "    <tr>\n",
              "        <th>country</th>\n",
              "    </tr>\n",
              "    <tr>\n",
              "        <td>Denmark</td>\n",
              "    </tr>\n",
              "    <tr>\n",
              "        <td>United Kingdom</td>\n",
              "    </tr>\n",
              "    <tr>\n",
              "        <td>Sweden</td>\n",
              "    </tr>\n",
              "    <tr>\n",
              "        <td>Turkey</td>\n",
              "    </tr>\n",
              "    <tr>\n",
              "        <td>Spain</td>\n",
              "    </tr>\n",
              "    <tr>\n",
              "        <td>France</td>\n",
              "    </tr>\n",
              "    <tr>\n",
              "        <td>Netherlands</td>\n",
              "    </tr>\n",
              "    <tr>\n",
              "        <td>Italy</td>\n",
              "    </tr>\n",
              "    <tr>\n",
              "        <td>Andorra</td>\n",
              "    </tr>\n",
              "    <tr>\n",
              "        <td>Romania</td>\n",
              "    </tr>\n",
              "    <tr>\n",
              "        <td>Greece</td>\n",
              "    </tr>\n",
              "    <tr>\n",
              "        <td>Germany</td>\n",
              "    </tr>\n",
              "    <tr>\n",
              "        <td>Moldova</td>\n",
              "    </tr>\n",
              "    <tr>\n",
              "        <td>Switzerland</td>\n",
              "    </tr>\n",
              "    <tr>\n",
              "        <td>Serbia</td>\n",
              "    </tr>\n",
              "    <tr>\n",
              "        <td>Norway</td>\n",
              "    </tr>\n",
              "    <tr>\n",
              "        <td>Poland</td>\n",
              "    </tr>\n",
              "    <tr>\n",
              "        <td>Ukraine</td>\n",
              "    </tr>\n",
              "    <tr>\n",
              "        <td>Portugal</td>\n",
              "    </tr>\n",
              "    <tr>\n",
              "        <td>Slovakia</td>\n",
              "    </tr>\n",
              "    <tr>\n",
              "        <td>Belarus</td>\n",
              "    </tr>\n",
              "    <tr>\n",
              "        <td>Czech Republic</td>\n",
              "    </tr>\n",
              "    <tr>\n",
              "        <td>Belgium</td>\n",
              "    </tr>\n",
              "    <tr>\n",
              "        <td>Hungary</td>\n",
              "    </tr>\n",
              "    <tr>\n",
              "        <td>Bulgaria</td>\n",
              "    </tr>\n",
              "    <tr>\n",
              "        <td>Ireland</td>\n",
              "    </tr>\n",
              "    <tr>\n",
              "        <td>Latvia</td>\n",
              "    </tr>\n",
              "    <tr>\n",
              "        <td>Albania</td>\n",
              "    </tr>\n",
              "    <tr>\n",
              "        <td>Austria</td>\n",
              "    </tr>\n",
              "    <tr>\n",
              "        <td>Finland</td>\n",
              "    </tr>\n",
              "    <tr>\n",
              "        <td>Lithuania</td>\n",
              "    </tr>\n",
              "    <tr>\n",
              "        <td>Slovenia</td>\n",
              "    </tr>\n",
              "    <tr>\n",
              "        <td>Montenegro</td>\n",
              "    </tr>\n",
              "    <tr>\n",
              "        <td>Croatia</td>\n",
              "    </tr>\n",
              "    <tr>\n",
              "        <td>Bosnia and Herzegovina</td>\n",
              "    </tr>\n",
              "    <tr>\n",
              "        <td>Macedonia</td>\n",
              "    </tr>\n",
              "    <tr>\n",
              "        <td>Estonia</td>\n",
              "    </tr>\n",
              "</table>"
            ],
            "text/plain": [
              "[('Denmark',),\n",
              " ('United Kingdom',),\n",
              " ('Sweden',),\n",
              " ('Turkey',),\n",
              " ('Spain',),\n",
              " ('France',),\n",
              " ('Netherlands',),\n",
              " ('Italy',),\n",
              " ('Andorra',),\n",
              " ('Romania',),\n",
              " ('Greece',),\n",
              " ('Germany',),\n",
              " ('Moldova',),\n",
              " ('Switzerland',),\n",
              " ('Serbia',),\n",
              " ('Norway',),\n",
              " ('Poland',),\n",
              " ('Ukraine',),\n",
              " ('Portugal',),\n",
              " ('Slovakia',),\n",
              " ('Belarus',),\n",
              " ('Czech Republic',),\n",
              " ('Belgium',),\n",
              " ('Hungary',),\n",
              " ('Bulgaria',),\n",
              " ('Ireland',),\n",
              " ('Latvia',),\n",
              " ('Albania',),\n",
              " ('Austria',),\n",
              " ('Finland',),\n",
              " ('Lithuania',),\n",
              " ('Slovenia',),\n",
              " ('Montenegro',),\n",
              " ('Croatia',),\n",
              " ('Bosnia and Herzegovina',),\n",
              " ('Macedonia',),\n",
              " ('Estonia',)]"
            ]
          },
          "metadata": {
            "tags": []
          },
          "execution_count": 13
        }
      ]
    },
    {
      "cell_type": "code",
      "metadata": {
        "id": "cVjrnGa4Ni5i",
        "colab_type": "code",
        "colab": {
          "base_uri": "https://localhost:8080/",
          "height": 205
        },
        "outputId": "794aae54-7f6b-4834-a0c8-4d32fc5aeb2b"
      },
      "source": [
        "# Example 4: We can use conditions to select records through the use of the WHERE clause as shown:\n",
        "# ---  \n",
        "# \n",
        "%%sql\n",
        "SELECT * FROM cities WHERE country = 'Sweden';"
      ],
      "execution_count": 15,
      "outputs": [
        {
          "output_type": "stream",
          "text": [
            " * sqlite://\n",
            "Done.\n"
          ],
          "name": "stdout"
        },
        {
          "output_type": "execute_result",
          "data": {
            "text/html": [
              "<table>\n",
              "    <tr>\n",
              "        <th>index</th>\n",
              "        <th>city</th>\n",
              "        <th>country</th>\n",
              "        <th>latitude</th>\n",
              "        <th>longitude</th>\n",
              "        <th>temperature</th>\n",
              "    </tr>\n",
              "    <tr>\n",
              "        <td>2</td>\n",
              "        <td>Abisko</td>\n",
              "        <td>Sweden</td>\n",
              "        <td>63.35</td>\n",
              "        <td>18.83</td>\n",
              "        <td>0.2</td>\n",
              "    </tr>\n",
              "    <tr>\n",
              "        <td>93</td>\n",
              "        <td>Göteborg</td>\n",
              "        <td>Sweden</td>\n",
              "        <td>57.75</td>\n",
              "        <td>12.0</td>\n",
              "        <td>5.76</td>\n",
              "    </tr>\n",
              "    <tr>\n",
              "        <td>116</td>\n",
              "        <td>Kiruna</td>\n",
              "        <td>Sweden</td>\n",
              "        <td>67.85</td>\n",
              "        <td>20.22</td>\n",
              "        <td>-2.2</td>\n",
              "    </tr>\n",
              "    <tr>\n",
              "        <td>134</td>\n",
              "        <td>Malmö</td>\n",
              "        <td>Sweden</td>\n",
              "        <td>55.58</td>\n",
              "        <td>13.03</td>\n",
              "        <td>7.33</td>\n",
              "    </tr>\n",
              "    <tr>\n",
              "        <td>186</td>\n",
              "        <td>Stockholm</td>\n",
              "        <td>Sweden</td>\n",
              "        <td>59.35</td>\n",
              "        <td>18.1</td>\n",
              "        <td>6.26</td>\n",
              "    </tr>\n",
              "    <tr>\n",
              "        <td>201</td>\n",
              "        <td>Uppsala</td>\n",
              "        <td>Sweden</td>\n",
              "        <td>59.86</td>\n",
              "        <td>17.64</td>\n",
              "        <td>4.17</td>\n",
              "    </tr>\n",
              "</table>"
            ],
            "text/plain": [
              "[(2, 'Abisko', 'Sweden', 63.35, 18.83, 0.2),\n",
              " (93, 'Göteborg', 'Sweden', 57.75, 12.0, 5.76),\n",
              " (116, 'Kiruna', 'Sweden', 67.85, 20.22, -2.2),\n",
              " (134, 'Malmö', 'Sweden', 55.58, 13.03, 7.33),\n",
              " (186, 'Stockholm', 'Sweden', 59.35, 18.1, 6.26),\n",
              " (201, 'Uppsala', 'Sweden', 59.86, 17.64, 4.17)]"
            ]
          },
          "metadata": {
            "tags": []
          },
          "execution_count": 15
        }
      ]
    },
    {
      "cell_type": "code",
      "metadata": {
        "id": "kdPIfkBfNnQN",
        "colab_type": "code",
        "colab": {
          "base_uri": "https://localhost:8080/",
          "height": 205
        },
        "outputId": "b9d3de1a-5d10-418b-b81a-40b7feee6a63"
      },
      "source": [
        "# Example 5: We can order our records through the use of the ORDER BY clause and using ASC or DESC as shown:\n",
        "# ---  \n",
        "# \n",
        "%%sql\n",
        "SELECT * FROM cities WHERE country = 'Sweden' ORDER BY temperature ASC;"
      ],
      "execution_count": 16,
      "outputs": [
        {
          "output_type": "stream",
          "text": [
            " * sqlite://\n",
            "Done.\n"
          ],
          "name": "stdout"
        },
        {
          "output_type": "execute_result",
          "data": {
            "text/html": [
              "<table>\n",
              "    <tr>\n",
              "        <th>index</th>\n",
              "        <th>city</th>\n",
              "        <th>country</th>\n",
              "        <th>latitude</th>\n",
              "        <th>longitude</th>\n",
              "        <th>temperature</th>\n",
              "    </tr>\n",
              "    <tr>\n",
              "        <td>116</td>\n",
              "        <td>Kiruna</td>\n",
              "        <td>Sweden</td>\n",
              "        <td>67.85</td>\n",
              "        <td>20.22</td>\n",
              "        <td>-2.2</td>\n",
              "    </tr>\n",
              "    <tr>\n",
              "        <td>2</td>\n",
              "        <td>Abisko</td>\n",
              "        <td>Sweden</td>\n",
              "        <td>63.35</td>\n",
              "        <td>18.83</td>\n",
              "        <td>0.2</td>\n",
              "    </tr>\n",
              "    <tr>\n",
              "        <td>201</td>\n",
              "        <td>Uppsala</td>\n",
              "        <td>Sweden</td>\n",
              "        <td>59.86</td>\n",
              "        <td>17.64</td>\n",
              "        <td>4.17</td>\n",
              "    </tr>\n",
              "    <tr>\n",
              "        <td>93</td>\n",
              "        <td>Göteborg</td>\n",
              "        <td>Sweden</td>\n",
              "        <td>57.75</td>\n",
              "        <td>12.0</td>\n",
              "        <td>5.76</td>\n",
              "    </tr>\n",
              "    <tr>\n",
              "        <td>186</td>\n",
              "        <td>Stockholm</td>\n",
              "        <td>Sweden</td>\n",
              "        <td>59.35</td>\n",
              "        <td>18.1</td>\n",
              "        <td>6.26</td>\n",
              "    </tr>\n",
              "    <tr>\n",
              "        <td>134</td>\n",
              "        <td>Malmö</td>\n",
              "        <td>Sweden</td>\n",
              "        <td>55.58</td>\n",
              "        <td>13.03</td>\n",
              "        <td>7.33</td>\n",
              "    </tr>\n",
              "</table>"
            ],
            "text/plain": [
              "[(116, 'Kiruna', 'Sweden', 67.85, 20.22, -2.2),\n",
              " (2, 'Abisko', 'Sweden', 63.35, 18.83, 0.2),\n",
              " (201, 'Uppsala', 'Sweden', 59.86, 17.64, 4.17),\n",
              " (93, 'Göteborg', 'Sweden', 57.75, 12.0, 5.76),\n",
              " (186, 'Stockholm', 'Sweden', 59.35, 18.1, 6.26),\n",
              " (134, 'Malmö', 'Sweden', 55.58, 13.03, 7.33)]"
            ]
          },
          "metadata": {
            "tags": []
          },
          "execution_count": 16
        }
      ]
    },
    {
      "cell_type": "code",
      "metadata": {
        "id": "lbqzf1iuNoEZ",
        "colab_type": "code",
        "colab": {
          "base_uri": "https://localhost:8080/",
          "height": 98
        },
        "outputId": "06c92f5c-cff4-4d6b-ddbc-c56ce88a8243"
      },
      "source": [
        "# Example 6: We can count selected items through the use of COUNT() function as shown:\n",
        "# --- \n",
        "# \n",
        "%%sql\n",
        "SELECT count(*) \n",
        "FROM cities \n",
        "WHERE country = 'Sweden' \n",
        "ORDER BY temperature \n",
        "ASC;"
      ],
      "execution_count": 17,
      "outputs": [
        {
          "output_type": "stream",
          "text": [
            " * sqlite://\n",
            "Done.\n"
          ],
          "name": "stdout"
        },
        {
          "output_type": "execute_result",
          "data": {
            "text/html": [
              "<table>\n",
              "    <tr>\n",
              "        <th>count(*)</th>\n",
              "    </tr>\n",
              "    <tr>\n",
              "        <td>6</td>\n",
              "    </tr>\n",
              "</table>"
            ],
            "text/plain": [
              "[(6,)]"
            ]
          },
          "metadata": {
            "tags": []
          },
          "execution_count": 17
        }
      ]
    },
    {
      "cell_type": "code",
      "metadata": {
        "id": "RT0V8HyfYrB8",
        "colab_type": "code",
        "colab": {
          "base_uri": "https://localhost:8080/",
          "height": 248
        },
        "outputId": "6bb84301-02e4-40d8-e93a-50e7508632fc"
      },
      "source": [
        "# Example 7\n",
        "# ---\n",
        "# We select records with values between certain boundaries in a column through\n",
        "# the BETWEEN AND keywords as shown:\n",
        "# ---\n",
        "# \n",
        "%%sql\n",
        "SELECT * FROM cities \n",
        "WHERE temperature \n",
        "BETWEEN 17 AND 20 \n",
        "ORDER BY country \n",
        "DESC; "
      ],
      "execution_count": 18,
      "outputs": [
        {
          "output_type": "stream",
          "text": [
            " * sqlite://\n",
            "Done.\n"
          ],
          "name": "stdout"
        },
        {
          "output_type": "execute_result",
          "data": {
            "text/html": [
              "<table>\n",
              "    <tr>\n",
              "        <th>index</th>\n",
              "        <th>city</th>\n",
              "        <th>country</th>\n",
              "        <th>latitude</th>\n",
              "        <th>longitude</th>\n",
              "        <th>temperature</th>\n",
              "    </tr>\n",
              "    <tr>\n",
              "        <td>3</td>\n",
              "        <td>Adana</td>\n",
              "        <td>Turkey</td>\n",
              "        <td>36.99</td>\n",
              "        <td>35.32</td>\n",
              "        <td>18.67</td>\n",
              "    </tr>\n",
              "    <tr>\n",
              "        <td>5</td>\n",
              "        <td>Algeciras</td>\n",
              "        <td>Spain</td>\n",
              "        <td>36.13</td>\n",
              "        <td>-5.47</td>\n",
              "        <td>17.38</td>\n",
              "    </tr>\n",
              "    <tr>\n",
              "        <td>59</td>\n",
              "        <td>Cartagena</td>\n",
              "        <td>Spain</td>\n",
              "        <td>37.6</td>\n",
              "        <td>-0.98</td>\n",
              "        <td>17.32</td>\n",
              "    </tr>\n",
              "    <tr>\n",
              "        <td>103</td>\n",
              "        <td>Huelva</td>\n",
              "        <td>Spain</td>\n",
              "        <td>37.25</td>\n",
              "        <td>-6.93</td>\n",
              "        <td>17.09</td>\n",
              "    </tr>\n",
              "    <tr>\n",
              "        <td>136</td>\n",
              "        <td>Marbella</td>\n",
              "        <td>Spain</td>\n",
              "        <td>36.52</td>\n",
              "        <td>-4.88</td>\n",
              "        <td>17.19</td>\n",
              "    </tr>\n",
              "    <tr>\n",
              "        <td>156</td>\n",
              "        <td>Palermo</td>\n",
              "        <td>Italy</td>\n",
              "        <td>38.13</td>\n",
              "        <td>13.35</td>\n",
              "        <td>17.9</td>\n",
              "    </tr>\n",
              "    <tr>\n",
              "        <td>14</td>\n",
              "        <td>Athens</td>\n",
              "        <td>Greece</td>\n",
              "        <td>37.98</td>\n",
              "        <td>23.73</td>\n",
              "        <td>17.41</td>\n",
              "    </tr>\n",
              "    <tr>\n",
              "        <td>108</td>\n",
              "        <td>Kalamata</td>\n",
              "        <td>Greece</td>\n",
              "        <td>37.04</td>\n",
              "        <td>22.11</td>\n",
              "        <td>17.3</td>\n",
              "    </tr>\n",
              "</table>"
            ],
            "text/plain": [
              "[(3, 'Adana', 'Turkey', 36.99, 35.32, 18.67),\n",
              " (5, 'Algeciras', 'Spain', 36.13, -5.47, 17.38),\n",
              " (59, 'Cartagena', 'Spain', 37.6, -0.98, 17.32),\n",
              " (103, 'Huelva', 'Spain', 37.25, -6.93, 17.09),\n",
              " (136, 'Marbella', 'Spain', 36.52, -4.88, 17.19),\n",
              " (156, 'Palermo', 'Italy', 38.13, 13.35, 17.9),\n",
              " (14, 'Athens', 'Greece', 37.98, 23.73, 17.41),\n",
              " (108, 'Kalamata', 'Greece', 37.04, 22.11, 17.3)]"
            ]
          },
          "metadata": {
            "tags": []
          },
          "execution_count": 18
        }
      ]
    },
    {
      "cell_type": "code",
      "metadata": {
        "id": "ZV6mA-7Zalk4",
        "colab_type": "code",
        "colab": {
          "base_uri": "https://localhost:8080/",
          "height": 162
        },
        "outputId": "e47a1e67-64ca-46a5-be10-d460be59d78f"
      },
      "source": [
        "# Example 8\n",
        "# ---\n",
        "# We select records between certain boundaries and not have having certain values \n",
        "# in a column using the AND NOT keywords as shown:\n",
        "# ---\n",
        "# \n",
        "%%sql\n",
        "SELECT * \n",
        "FROM cities \n",
        "WHERE temperature \n",
        "BETWEEN 17 AND 20 \n",
        "AND NOT longitude < 10\n",
        "ORDER BY country DESC;"
      ],
      "execution_count": 19,
      "outputs": [
        {
          "output_type": "stream",
          "text": [
            " * sqlite://\n",
            "Done.\n"
          ],
          "name": "stdout"
        },
        {
          "output_type": "execute_result",
          "data": {
            "text/html": [
              "<table>\n",
              "    <tr>\n",
              "        <th>index</th>\n",
              "        <th>city</th>\n",
              "        <th>country</th>\n",
              "        <th>latitude</th>\n",
              "        <th>longitude</th>\n",
              "        <th>temperature</th>\n",
              "    </tr>\n",
              "    <tr>\n",
              "        <td>3</td>\n",
              "        <td>Adana</td>\n",
              "        <td>Turkey</td>\n",
              "        <td>36.99</td>\n",
              "        <td>35.32</td>\n",
              "        <td>18.67</td>\n",
              "    </tr>\n",
              "    <tr>\n",
              "        <td>156</td>\n",
              "        <td>Palermo</td>\n",
              "        <td>Italy</td>\n",
              "        <td>38.13</td>\n",
              "        <td>13.35</td>\n",
              "        <td>17.9</td>\n",
              "    </tr>\n",
              "    <tr>\n",
              "        <td>14</td>\n",
              "        <td>Athens</td>\n",
              "        <td>Greece</td>\n",
              "        <td>37.98</td>\n",
              "        <td>23.73</td>\n",
              "        <td>17.41</td>\n",
              "    </tr>\n",
              "    <tr>\n",
              "        <td>108</td>\n",
              "        <td>Kalamata</td>\n",
              "        <td>Greece</td>\n",
              "        <td>37.04</td>\n",
              "        <td>22.11</td>\n",
              "        <td>17.3</td>\n",
              "    </tr>\n",
              "</table>"
            ],
            "text/plain": [
              "[(3, 'Adana', 'Turkey', 36.99, 35.32, 18.67),\n",
              " (156, 'Palermo', 'Italy', 38.13, 13.35, 17.9),\n",
              " (14, 'Athens', 'Greece', 37.98, 23.73, 17.41),\n",
              " (108, 'Kalamata', 'Greece', 37.04, 22.11, 17.3)]"
            ]
          },
          "metadata": {
            "tags": []
          },
          "execution_count": 19
        }
      ]
    },
    {
      "cell_type": "code",
      "metadata": {
        "id": "R8ZUFafAat1Q",
        "colab_type": "code",
        "colab": {
          "base_uri": "https://localhost:8080/",
          "height": 77
        },
        "outputId": "087681e6-b0d7-42c3-ce75-69032f6a8ca0"
      },
      "source": [
        "# Example 9\n",
        "# ---\n",
        "# We can select records with null values as shown below:\n",
        "# ---\n",
        "#\n",
        "%%sql\n",
        "SELECT * FROM cities WHERE temperature IS NULL;"
      ],
      "execution_count": 20,
      "outputs": [
        {
          "output_type": "stream",
          "text": [
            " * sqlite://\n",
            "Done.\n"
          ],
          "name": "stdout"
        },
        {
          "output_type": "execute_result",
          "data": {
            "text/html": [
              "<table>\n",
              "    <tr>\n",
              "        <th>index</th>\n",
              "        <th>city</th>\n",
              "        <th>country</th>\n",
              "        <th>latitude</th>\n",
              "        <th>longitude</th>\n",
              "        <th>temperature</th>\n",
              "    </tr>\n",
              "</table>"
            ],
            "text/plain": [
              "[]"
            ]
          },
          "metadata": {
            "tags": []
          },
          "execution_count": 20
        }
      ]
    },
    {
      "cell_type": "code",
      "metadata": {
        "id": "Oq4pNKBNvgSm",
        "colab_type": "code",
        "colab": {
          "base_uri": "https://localhost:8080/",
          "height": 184
        },
        "outputId": "0d325aab-1dc2-4db6-8a23-5722b7f3b8c5"
      },
      "source": [
        "# Example 10\n",
        "# ---\n",
        "# We can again select records with no null values as shown:\n",
        "# ----\n",
        "# This time we limit the fetched records because \n",
        "# we might expect to have many records returned.\n",
        "# ---\n",
        "# Challenge: You can also change the code to counting how many records \n",
        "# we have using the COUNT() keyword.\n",
        "# ---\n",
        "#\n",
        "%%sql\n",
        "SELECT * FROM cities \n",
        "WHERE temperature IS NOT NULL LIMIT 5;"
      ],
      "execution_count": 21,
      "outputs": [
        {
          "output_type": "stream",
          "text": [
            " * sqlite://\n",
            "Done.\n"
          ],
          "name": "stdout"
        },
        {
          "output_type": "execute_result",
          "data": {
            "text/html": [
              "<table>\n",
              "    <tr>\n",
              "        <th>index</th>\n",
              "        <th>city</th>\n",
              "        <th>country</th>\n",
              "        <th>latitude</th>\n",
              "        <th>longitude</th>\n",
              "        <th>temperature</th>\n",
              "    </tr>\n",
              "    <tr>\n",
              "        <td>0</td>\n",
              "        <td>Aalborg</td>\n",
              "        <td>Denmark</td>\n",
              "        <td>57.03</td>\n",
              "        <td>9.92</td>\n",
              "        <td>7.52</td>\n",
              "    </tr>\n",
              "    <tr>\n",
              "        <td>1</td>\n",
              "        <td>Aberdeen</td>\n",
              "        <td>United Kingdom</td>\n",
              "        <td>57.17</td>\n",
              "        <td>-2.08</td>\n",
              "        <td>8.1</td>\n",
              "    </tr>\n",
              "    <tr>\n",
              "        <td>2</td>\n",
              "        <td>Abisko</td>\n",
              "        <td>Sweden</td>\n",
              "        <td>63.35</td>\n",
              "        <td>18.83</td>\n",
              "        <td>0.2</td>\n",
              "    </tr>\n",
              "    <tr>\n",
              "        <td>3</td>\n",
              "        <td>Adana</td>\n",
              "        <td>Turkey</td>\n",
              "        <td>36.99</td>\n",
              "        <td>35.32</td>\n",
              "        <td>18.67</td>\n",
              "    </tr>\n",
              "    <tr>\n",
              "        <td>4</td>\n",
              "        <td>Albacete</td>\n",
              "        <td>Spain</td>\n",
              "        <td>39.0</td>\n",
              "        <td>-1.87</td>\n",
              "        <td>12.62</td>\n",
              "    </tr>\n",
              "</table>"
            ],
            "text/plain": [
              "[(0, 'Aalborg', 'Denmark', 57.03, 9.92, 7.52),\n",
              " (1, 'Aberdeen', 'United Kingdom', 57.17, -2.08, 8.1),\n",
              " (2, 'Abisko', 'Sweden', 63.35, 18.83, 0.2),\n",
              " (3, 'Adana', 'Turkey', 36.99, 35.32, 18.67),\n",
              " (4, 'Albacete', 'Spain', 39.0, -1.87, 12.62)]"
            ]
          },
          "metadata": {
            "tags": []
          },
          "execution_count": 21
        }
      ]
    },
    {
      "cell_type": "code",
      "metadata": {
        "colab_type": "code",
        "id": "HSvcTVKNQpwA",
        "colab": {
          "base_uri": "https://localhost:8080/",
          "height": 184
        },
        "outputId": "246c8ebe-cc0e-4da2-bcf6-68fe97716247"
      },
      "source": [
        "# Example 11\n",
        "# ---\n",
        "# We can select multiple fields FROM a table as shown. \n",
        "# ---\n",
        "#  \n",
        "%%sql\n",
        "SELECT city, temperature FROM cities \n",
        "ORDER BY temperature DESC \n",
        "LIMIT 5;"
      ],
      "execution_count": 22,
      "outputs": [
        {
          "output_type": "stream",
          "text": [
            " * sqlite://\n",
            "Done.\n"
          ],
          "name": "stdout"
        },
        {
          "output_type": "execute_result",
          "data": {
            "text/html": [
              "<table>\n",
              "    <tr>\n",
              "        <th>city</th>\n",
              "        <th>temperature</th>\n",
              "    </tr>\n",
              "    <tr>\n",
              "        <td>Adana</td>\n",
              "        <td>18.67</td>\n",
              "    </tr>\n",
              "    <tr>\n",
              "        <td>Palermo</td>\n",
              "        <td>17.9</td>\n",
              "    </tr>\n",
              "    <tr>\n",
              "        <td>Athens</td>\n",
              "        <td>17.41</td>\n",
              "    </tr>\n",
              "    <tr>\n",
              "        <td>Algeciras</td>\n",
              "        <td>17.38</td>\n",
              "    </tr>\n",
              "    <tr>\n",
              "        <td>Cartagena</td>\n",
              "        <td>17.32</td>\n",
              "    </tr>\n",
              "</table>"
            ],
            "text/plain": [
              "[('Adana', 18.67),\n",
              " ('Palermo', 17.9),\n",
              " ('Athens', 17.41),\n",
              " ('Algeciras', 17.38),\n",
              " ('Cartagena', 17.32)]"
            ]
          },
          "metadata": {
            "tags": []
          },
          "execution_count": 22
        }
      ]
    },
    {
      "cell_type": "markdown",
      "metadata": {
        "colab_type": "text",
        "id": "1697xvW-RBSZ"
      },
      "source": [
        "### <font color=\"green\">Challenges</font> "
      ]
    },
    {
      "cell_type": "markdown",
      "metadata": {
        "id": "trXH64YNw2rY",
        "colab_type": "text"
      },
      "source": [
        "<font color=\"blue\">Your will be required to use countries dataset that you loaded in the first challenge earlier.</font>\n"
      ]
    },
    {
      "cell_type": "code",
      "metadata": {
        "colab_type": "code",
        "id": "cXAH1TXzRBSb",
        "colab": {
          "base_uri": "https://localhost:8080/",
          "height": 184
        },
        "outputId": "19592eb8-161f-477b-81e9-3e8801b25e0e"
      },
      "source": [
        "# Challenge 1\n",
        "# ---\n",
        "# Question: Select the first 5 records from the countries dataset.\n",
        "# ---\n",
        "# YOUR CODE GOES BELOW \n",
        "# \n",
        "\n",
        "%%sql\n",
        "SELECT * FROM countries LIMIT 5;"
      ],
      "execution_count": 24,
      "outputs": [
        {
          "output_type": "stream",
          "text": [
            " * sqlite://\n",
            "Done.\n"
          ],
          "name": "stdout"
        },
        {
          "output_type": "execute_result",
          "data": {
            "text/html": [
              "<table>\n",
              "    <tr>\n",
              "        <th>index</th>\n",
              "        <th>country</th>\n",
              "        <th>population</th>\n",
              "        <th>EU</th>\n",
              "        <th>coastline</th>\n",
              "    </tr>\n",
              "    <tr>\n",
              "        <td>0</td>\n",
              "        <td>Albania</td>\n",
              "        <td>2.9</td>\n",
              "        <td>no</td>\n",
              "        <td>yes</td>\n",
              "    </tr>\n",
              "    <tr>\n",
              "        <td>1</td>\n",
              "        <td>Andorra</td>\n",
              "        <td>0.07</td>\n",
              "        <td>no</td>\n",
              "        <td>no</td>\n",
              "    </tr>\n",
              "    <tr>\n",
              "        <td>2</td>\n",
              "        <td>Austria</td>\n",
              "        <td>8.57</td>\n",
              "        <td>yes</td>\n",
              "        <td>no</td>\n",
              "    </tr>\n",
              "    <tr>\n",
              "        <td>3</td>\n",
              "        <td>Belarus</td>\n",
              "        <td>9.48</td>\n",
              "        <td>no</td>\n",
              "        <td>no</td>\n",
              "    </tr>\n",
              "    <tr>\n",
              "        <td>4</td>\n",
              "        <td>Belgium</td>\n",
              "        <td>11.37</td>\n",
              "        <td>yes</td>\n",
              "        <td>yes</td>\n",
              "    </tr>\n",
              "</table>"
            ],
            "text/plain": [
              "[(0, 'Albania', 2.9, 'no', 'yes'),\n",
              " (1, 'Andorra', 0.07, 'no', 'no'),\n",
              " (2, 'Austria', 8.57, 'yes', 'no'),\n",
              " (3, 'Belarus', 9.48, 'no', 'no'),\n",
              " (4, 'Belgium', 11.37, 'yes', 'yes')]"
            ]
          },
          "metadata": {
            "tags": []
          },
          "execution_count": 24
        }
      ]
    },
    {
      "cell_type": "code",
      "metadata": {
        "colab_type": "code",
        "id": "T4fLiWFERBSf",
        "colab": {
          "base_uri": "https://localhost:8080/",
          "height": 98
        },
        "outputId": "a48e8ddd-caa9-482c-dd32-5c1224202bb3"
      },
      "source": [
        "# Challenge 2\n",
        "# ---\n",
        "# Question: How many countries are there in the eu from the given countries dataset?\n",
        "# ---\n",
        "# YOUR CODE GOES BELOW \n",
        "# \n",
        "%%sql\n",
        "SELECT COUNT(*)FROM countries WHERE EU = \"yes\""
      ],
      "execution_count": 30,
      "outputs": [
        {
          "output_type": "stream",
          "text": [
            " * sqlite://\n",
            "Done.\n"
          ],
          "name": "stdout"
        },
        {
          "output_type": "execute_result",
          "data": {
            "text/html": [
              "<table>\n",
              "    <tr>\n",
              "        <th>COUNT(*)</th>\n",
              "    </tr>\n",
              "    <tr>\n",
              "        <td>27</td>\n",
              "    </tr>\n",
              "</table>"
            ],
            "text/plain": [
              "[(27,)]"
            ]
          },
          "metadata": {
            "tags": []
          },
          "execution_count": 30
        }
      ]
    },
    {
      "cell_type": "code",
      "metadata": {
        "colab_type": "code",
        "id": "pTwyWpF9RBSh",
        "colab": {
          "base_uri": "https://localhost:8080/",
          "height": 184
        },
        "outputId": "3e0eb795-3b25-42fd-c207-19600db09491"
      },
      "source": [
        "# Challenge 3\n",
        "# ---\n",
        "# Question: Which countries had a population less than 3.0 and had a coastline?\n",
        "# ---\n",
        "# YOUR CODE GOES BELOW \n",
        "# \n",
        "\n",
        "%%sql\n",
        "\n",
        "SELECT * FROM countries WHERE population < 3.0 AND coastline = \"no\";"
      ],
      "execution_count": 32,
      "outputs": [
        {
          "output_type": "stream",
          "text": [
            " * sqlite://\n",
            "Done.\n"
          ],
          "name": "stdout"
        },
        {
          "output_type": "execute_result",
          "data": {
            "text/html": [
              "<table>\n",
              "    <tr>\n",
              "        <th>index</th>\n",
              "        <th>country</th>\n",
              "        <th>population</th>\n",
              "        <th>EU</th>\n",
              "        <th>coastline</th>\n",
              "    </tr>\n",
              "    <tr>\n",
              "        <td>1</td>\n",
              "        <td>Andorra</td>\n",
              "        <td>0.07</td>\n",
              "        <td>no</td>\n",
              "        <td>no</td>\n",
              "    </tr>\n",
              "    <tr>\n",
              "        <td>20</td>\n",
              "        <td>Kosovo</td>\n",
              "        <td>1.91</td>\n",
              "        <td>no</td>\n",
              "        <td>no</td>\n",
              "    </tr>\n",
              "    <tr>\n",
              "        <td>22</td>\n",
              "        <td>Liechtenstein</td>\n",
              "        <td>0.04</td>\n",
              "        <td>no</td>\n",
              "        <td>no</td>\n",
              "    </tr>\n",
              "    <tr>\n",
              "        <td>24</td>\n",
              "        <td>Luxembourg</td>\n",
              "        <td>0.58</td>\n",
              "        <td>yes</td>\n",
              "        <td>no</td>\n",
              "    </tr>\n",
              "    <tr>\n",
              "        <td>25</td>\n",
              "        <td>Macedonia</td>\n",
              "        <td>2.08</td>\n",
              "        <td>no</td>\n",
              "        <td>no</td>\n",
              "    </tr>\n",
              "</table>"
            ],
            "text/plain": [
              "[(1, 'Andorra', 0.07, 'no', 'no'),\n",
              " (20, 'Kosovo', 1.91, 'no', 'no'),\n",
              " (22, 'Liechtenstein', 0.04, 'no', 'no'),\n",
              " (24, 'Luxembourg', 0.58, 'yes', 'no'),\n",
              " (25, 'Macedonia', 2.08, 'no', 'no')]"
            ]
          },
          "metadata": {
            "tags": []
          },
          "execution_count": 32
        }
      ]
    },
    {
      "cell_type": "code",
      "metadata": {
        "id": "Wl03uFTsGAK_",
        "colab_type": "code",
        "colab": {
          "base_uri": "https://localhost:8080/",
          "height": 184
        },
        "outputId": "839bf50b-9610-4605-b93e-e35074d90be4"
      },
      "source": [
        "# Challenge 4\n",
        "# ---\n",
        "# Question: Which countries had the most population but were not in the eu?\n",
        "# ---\n",
        "# YOUR CODE GOES BELOW \n",
        "# \n",
        "# TO select the country with the highest population\n",
        "\n",
        "# --- SELECT MAX(population) FROM countries WHERE EU =\"no\"\n",
        "\n",
        "# To select the top five countries with the most population\n",
        "%%sql\n",
        "SELECT * FROM countries WHERE EU =\"no\" ORDER BY population DESC LIMIT 5;\n"
      ],
      "execution_count": 39,
      "outputs": [
        {
          "output_type": "stream",
          "text": [
            " * sqlite://\n",
            "Done.\n"
          ],
          "name": "stdout"
        },
        {
          "output_type": "execute_result",
          "data": {
            "text/html": [
              "<table>\n",
              "    <tr>\n",
              "        <th>index</th>\n",
              "        <th>country</th>\n",
              "        <th>population</th>\n",
              "        <th>EU</th>\n",
              "        <th>coastline</th>\n",
              "    </tr>\n",
              "    <tr>\n",
              "        <td>39</td>\n",
              "        <td>Turkey</td>\n",
              "        <td>79.62</td>\n",
              "        <td>no</td>\n",
              "        <td>yes</td>\n",
              "    </tr>\n",
              "    <tr>\n",
              "        <td>40</td>\n",
              "        <td>Ukraine</td>\n",
              "        <td>44.62</td>\n",
              "        <td>no</td>\n",
              "        <td>yes</td>\n",
              "    </tr>\n",
              "    <tr>\n",
              "        <td>3</td>\n",
              "        <td>Belarus</td>\n",
              "        <td>9.48</td>\n",
              "        <td>no</td>\n",
              "        <td>no</td>\n",
              "    </tr>\n",
              "    <tr>\n",
              "        <td>33</td>\n",
              "        <td>Serbia</td>\n",
              "        <td>8.81</td>\n",
              "        <td>no</td>\n",
              "        <td>no</td>\n",
              "    </tr>\n",
              "    <tr>\n",
              "        <td>38</td>\n",
              "        <td>Switzerland</td>\n",
              "        <td>8.38</td>\n",
              "        <td>no</td>\n",
              "        <td>no</td>\n",
              "    </tr>\n",
              "</table>"
            ],
            "text/plain": [
              "[(39, 'Turkey', 79.62, 'no', 'yes'),\n",
              " (40, 'Ukraine', 44.62, 'no', 'yes'),\n",
              " (3, 'Belarus', 9.48, 'no', 'no'),\n",
              " (33, 'Serbia', 8.81, 'no', 'no'),\n",
              " (38, 'Switzerland', 8.38, 'no', 'no')]"
            ]
          },
          "metadata": {
            "tags": []
          },
          "execution_count": 39
        }
      ]
    },
    {
      "cell_type": "code",
      "metadata": {
        "id": "NE_lJxvdGrIz",
        "colab_type": "code",
        "colab": {}
      },
      "source": [
        "# Challenge 5\n",
        "# ---\n",
        "# Question: Which three eu countries have the least population?\n",
        "# ---\n",
        "# YOUR CODE GOES BELOW \n",
        "# \n",
        "\n",
        "%%sql\n",
        "\n",
        "SELECT * FROM countries WHERE EU =\"yes\" ORDER BY population ASC LIMIT 3;"
      ],
      "execution_count": null,
      "outputs": []
    },
    {
      "cell_type": "code",
      "metadata": {
        "id": "Ne5dxdkKGv5K",
        "colab_type": "code",
        "colab": {
          "base_uri": "https://localhost:8080/",
          "height": 77
        },
        "outputId": "afe482d6-e01f-4080-8d9d-c35cff3e6ba0"
      },
      "source": [
        "# Challenge 6\n",
        "# ---\n",
        "# Question: Does your countries dataset have any missing records?\n",
        "# ---\n",
        "# YOUR CODE GOES BELOW \n",
        "# \n",
        "\n",
        "# SELECT * FROM countries WHERE coalesce(population,EU,country,coastline) IS NULL\n",
        "# SELECT * FROM countries WHERE population||EU||country||coastline IS NULL\n",
        "%%sql\n",
        "\n",
        "SELECT * FROM countries WHERE coalesce(population,EU,country,coastline) IS NULL"
      ],
      "execution_count": 56,
      "outputs": [
        {
          "output_type": "stream",
          "text": [
            " * sqlite://\n",
            "Done.\n"
          ],
          "name": "stdout"
        },
        {
          "output_type": "execute_result",
          "data": {
            "text/html": [
              "<table>\n",
              "    <tr>\n",
              "        <th>index</th>\n",
              "        <th>country</th>\n",
              "        <th>population</th>\n",
              "        <th>EU</th>\n",
              "        <th>coastline</th>\n",
              "    </tr>\n",
              "</table>"
            ],
            "text/plain": [
              "[]"
            ]
          },
          "metadata": {
            "tags": []
          },
          "execution_count": 56
        }
      ]
    },
    {
      "cell_type": "markdown",
      "metadata": {
        "id": "yy041te5Ks80",
        "colab_type": "text"
      },
      "source": [
        "## 3. Inserting data to a table"
      ]
    },
    {
      "cell_type": "markdown",
      "metadata": {
        "colab_type": "text",
        "id": "3hgn7CkPQv-J"
      },
      "source": [
        "### <font color=\"blue\">Examples</font>"
      ]
    },
    {
      "cell_type": "code",
      "metadata": {
        "colab_type": "code",
        "id": "f3I544r5Qv-K",
        "colab": {
          "base_uri": "https://localhost:8080/",
          "height": 116
        },
        "outputId": "05d7244f-e3cf-4b8b-a7b5-0c0c28635759"
      },
      "source": [
        "# Example 1\n",
        "# ---\n",
        "# Then we will insert new data into our table and noting the added record \n",
        "# city        = 'Palanga'\n",
        "# country     = 'Lithuania'\n",
        "# latitude    = '22'\n",
        "# longitude   = 12.1\n",
        "# temperature = 21 \n",
        "# ---\n",
        "#\n",
        "%%sql\n",
        "INSERT INTO cities (city, country, latitude, longitude, temperature)\n",
        "VALUES ('Palanga', 'Lithuania', 22, 12.1, 15);\n",
        "\n",
        "SELECT * FROM cities WHERE city = \"Palanga\";"
      ],
      "execution_count": 7,
      "outputs": [
        {
          "output_type": "stream",
          "text": [
            " * sqlite://\n",
            "1 rows affected.\n",
            "Done.\n"
          ],
          "name": "stdout"
        },
        {
          "output_type": "execute_result",
          "data": {
            "text/html": [
              "<table>\n",
              "    <tr>\n",
              "        <th>index</th>\n",
              "        <th>city</th>\n",
              "        <th>country</th>\n",
              "        <th>latitude</th>\n",
              "        <th>longitude</th>\n",
              "        <th>temperature</th>\n",
              "    </tr>\n",
              "    <tr>\n",
              "        <td>None</td>\n",
              "        <td>Palanga</td>\n",
              "        <td>Lithuania</td>\n",
              "        <td>22.0</td>\n",
              "        <td>12.1</td>\n",
              "        <td>15.0</td>\n",
              "    </tr>\n",
              "</table>"
            ],
            "text/plain": [
              "[(None, 'Palanga', 'Lithuania', 22.0, 12.1, 15.0)]"
            ]
          },
          "metadata": {
            "tags": []
          },
          "execution_count": 7
        }
      ]
    },
    {
      "cell_type": "code",
      "metadata": {
        "colab_type": "code",
        "id": "KrWPp2zUQv-P",
        "colab": {
          "base_uri": "https://localhost:8080/",
          "height": 116
        },
        "outputId": "af202040-d551-439d-c994-0adda3e0ddc5"
      },
      "source": [
        "# Example 2\n",
        "# ---\n",
        "# Then we will insert new data into our table and noting all the values of the added record\n",
        "# city        = 'Prizren'\n",
        "# country     = 'Kosovo'\n",
        "# latitude    = '22' \n",
        "# ---  \n",
        "# \n",
        "%%sql\n",
        "INSERT INTO cities (city, country, latitude)\n",
        "VALUES ('Prizren', 'Kosovo', 22);\n",
        "\n",
        "SELECT * FROM cities WHERE city = \"Prizren\";"
      ],
      "execution_count": 8,
      "outputs": [
        {
          "output_type": "stream",
          "text": [
            " * sqlite://\n",
            "1 rows affected.\n",
            "Done.\n"
          ],
          "name": "stdout"
        },
        {
          "output_type": "execute_result",
          "data": {
            "text/html": [
              "<table>\n",
              "    <tr>\n",
              "        <th>index</th>\n",
              "        <th>city</th>\n",
              "        <th>country</th>\n",
              "        <th>latitude</th>\n",
              "        <th>longitude</th>\n",
              "        <th>temperature</th>\n",
              "    </tr>\n",
              "    <tr>\n",
              "        <td>None</td>\n",
              "        <td>Prizren</td>\n",
              "        <td>Kosovo</td>\n",
              "        <td>22.0</td>\n",
              "        <td>None</td>\n",
              "        <td>None</td>\n",
              "    </tr>\n",
              "</table>"
            ],
            "text/plain": [
              "[(None, 'Prizren', 'Kosovo', 22.0, None, None)]"
            ]
          },
          "metadata": {
            "tags": []
          },
          "execution_count": 8
        }
      ]
    },
    {
      "cell_type": "markdown",
      "metadata": {
        "colab_type": "text",
        "id": "n8N6UYkgRD5M"
      },
      "source": [
        "### <font color=\"green\">Challenges</font> "
      ]
    },
    {
      "cell_type": "code",
      "metadata": {
        "colab_type": "code",
        "id": "EkyaXgrKRD5N",
        "colab": {
          "base_uri": "https://localhost:8080/",
          "height": 159
        },
        "outputId": "2f971211-1732-4ace-a050-4b86e9861ca5"
      },
      "source": [
        "# Challenge 1\n",
        "# ---\n",
        "# Question: Insert the following data into our countries table.\n",
        "# country    = 'Kosovo'\n",
        "# population = '2'\n",
        "# eu         = no\n",
        "# coastline  = no\n",
        "# ---\n",
        "# \n",
        "%%sql\n",
        "\n",
        "INSERT INTO countries (country, population,EU,coastline)\n",
        "VALUES (\"Kosovo\", \"2\", \"no\", \"no\");\n",
        "\n",
        "SELECT * FROM countries WHERE country = \"Kosovo\";"
      ],
      "execution_count": 11,
      "outputs": [
        {
          "output_type": "stream",
          "text": [
            " * sqlite://\n",
            "1 rows affected.\n",
            "Done.\n"
          ],
          "name": "stdout"
        },
        {
          "output_type": "execute_result",
          "data": {
            "text/html": [
              "<table>\n",
              "    <tr>\n",
              "        <th>index</th>\n",
              "        <th>country</th>\n",
              "        <th>population</th>\n",
              "        <th>EU</th>\n",
              "        <th>coastline</th>\n",
              "    </tr>\n",
              "    <tr>\n",
              "        <td>20</td>\n",
              "        <td>Kosovo</td>\n",
              "        <td>1.91</td>\n",
              "        <td>no</td>\n",
              "        <td>no</td>\n",
              "    </tr>\n",
              "    <tr>\n",
              "        <td>None</td>\n",
              "        <td>Kosovo</td>\n",
              "        <td>2.0</td>\n",
              "        <td>no</td>\n",
              "        <td>no</td>\n",
              "    </tr>\n",
              "    <tr>\n",
              "        <td>None</td>\n",
              "        <td>Kosovo</td>\n",
              "        <td>2.0</td>\n",
              "        <td>no</td>\n",
              "        <td>no</td>\n",
              "    </tr>\n",
              "</table>"
            ],
            "text/plain": [
              "[(20, 'Kosovo', 1.91, 'no', 'no'),\n",
              " (None, 'Kosovo', 2.0, 'no', 'no'),\n",
              " (None, 'Kosovo', 2.0, 'no', 'no')]"
            ]
          },
          "metadata": {
            "tags": []
          },
          "execution_count": 11
        }
      ]
    },
    {
      "cell_type": "markdown",
      "metadata": {
        "id": "u5VtCdCHK7Sz",
        "colab_type": "text"
      },
      "source": [
        "## 4. Updating data in a table"
      ]
    },
    {
      "cell_type": "markdown",
      "metadata": {
        "colab_type": "text",
        "id": "C4c7QGKPQ1Zv"
      },
      "source": [
        "### <font color=\"blue\">Examples</font>"
      ]
    },
    {
      "cell_type": "code",
      "metadata": {
        "colab_type": "code",
        "id": "JpdnanbfQ1Zx",
        "colab": {
          "base_uri": "https://localhost:8080/",
          "height": 116
        },
        "outputId": "004da1b2-0a2c-483d-e76d-b8321f8f83b7"
      },
      "source": [
        "# Example 1\n",
        "# ---\n",
        "# Let's update a record in our cities table\n",
        "# ---\n",
        "# \n",
        "%%sql\n",
        "UPDATE cities\n",
        "SET temperature = 3.0\n",
        "WHERE country = \"Albania\";\n",
        "\n",
        "SELECT * FROM cities WHERE country = \"Albania\";"
      ],
      "execution_count": 12,
      "outputs": [
        {
          "output_type": "stream",
          "text": [
            " * sqlite://\n",
            "1 rows affected.\n",
            "Done.\n"
          ],
          "name": "stdout"
        },
        {
          "output_type": "execute_result",
          "data": {
            "text/html": [
              "<table>\n",
              "    <tr>\n",
              "        <th>index</th>\n",
              "        <th>city</th>\n",
              "        <th>country</th>\n",
              "        <th>latitude</th>\n",
              "        <th>longitude</th>\n",
              "        <th>temperature</th>\n",
              "    </tr>\n",
              "    <tr>\n",
              "        <td>78</td>\n",
              "        <td>Elbasan</td>\n",
              "        <td>Albania</td>\n",
              "        <td>41.12</td>\n",
              "        <td>20.08</td>\n",
              "        <td>3.0</td>\n",
              "    </tr>\n",
              "</table>"
            ],
            "text/plain": [
              "[(78, 'Elbasan', 'Albania', 41.12, 20.08, 3.0)]"
            ]
          },
          "metadata": {
            "tags": []
          },
          "execution_count": 12
        }
      ]
    },
    {
      "cell_type": "code",
      "metadata": {
        "colab_type": "code",
        "id": "LP3Uo8FOQ1Z0",
        "colab": {
          "base_uri": "https://localhost:8080/",
          "height": 116
        },
        "outputId": "130c4a67-b436-41dd-ee99-d42330eadc37"
      },
      "source": [
        "# Example 2\n",
        "# ---\n",
        "# Let's update a record in our cities tables\n",
        "# ---\n",
        "#\n",
        "%%sql\n",
        "UPDATE cities\n",
        "SET latitude = 41.12, longitude = 20.09\n",
        "WHERE \"city\" = \"Elbasan\";\n",
        "\n",
        "SELECT * FROM cities WHERE country = \"Albania\";"
      ],
      "execution_count": 13,
      "outputs": [
        {
          "output_type": "stream",
          "text": [
            " * sqlite://\n",
            "1 rows affected.\n",
            "Done.\n"
          ],
          "name": "stdout"
        },
        {
          "output_type": "execute_result",
          "data": {
            "text/html": [
              "<table>\n",
              "    <tr>\n",
              "        <th>index</th>\n",
              "        <th>city</th>\n",
              "        <th>country</th>\n",
              "        <th>latitude</th>\n",
              "        <th>longitude</th>\n",
              "        <th>temperature</th>\n",
              "    </tr>\n",
              "    <tr>\n",
              "        <td>78</td>\n",
              "        <td>Elbasan</td>\n",
              "        <td>Albania</td>\n",
              "        <td>41.12</td>\n",
              "        <td>20.09</td>\n",
              "        <td>3.0</td>\n",
              "    </tr>\n",
              "</table>"
            ],
            "text/plain": [
              "[(78, 'Elbasan', 'Albania', 41.12, 20.09, 3.0)]"
            ]
          },
          "metadata": {
            "tags": []
          },
          "execution_count": 13
        }
      ]
    },
    {
      "cell_type": "markdown",
      "metadata": {
        "colab_type": "text",
        "id": "sOSgLCELRHop"
      },
      "source": [
        "### <font color=\"green\">Challenges</font> "
      ]
    },
    {
      "cell_type": "code",
      "metadata": {
        "colab_type": "code",
        "id": "Kpgr5n3WRHoq",
        "colab": {
          "base_uri": "https://localhost:8080/",
          "height": 116
        },
        "outputId": "80d2ecfd-931f-46e7-dc18-15b9e1f9dcad"
      },
      "source": [
        "# Challenge 1\n",
        "# ---\n",
        "# Question: Update the population of Austria to 9.0 in the countries table.\n",
        "# --- \n",
        "# YOUR CODE GOES BELOW\n",
        "# \n",
        "\n",
        "%%sql\n",
        "UPDATE countries \n",
        "SET population = 9.0 \n",
        "WHERE country = \"Austria\";\n",
        "\n",
        "SELECT * FROM countries WHERE country = \"Austria\";"
      ],
      "execution_count": 15,
      "outputs": [
        {
          "output_type": "stream",
          "text": [
            " * sqlite://\n",
            "1 rows affected.\n",
            "Done.\n"
          ],
          "name": "stdout"
        },
        {
          "output_type": "execute_result",
          "data": {
            "text/html": [
              "<table>\n",
              "    <tr>\n",
              "        <th>index</th>\n",
              "        <th>country</th>\n",
              "        <th>population</th>\n",
              "        <th>EU</th>\n",
              "        <th>coastline</th>\n",
              "    </tr>\n",
              "    <tr>\n",
              "        <td>2</td>\n",
              "        <td>Austria</td>\n",
              "        <td>9.0</td>\n",
              "        <td>yes</td>\n",
              "        <td>no</td>\n",
              "    </tr>\n",
              "</table>"
            ],
            "text/plain": [
              "[(2, 'Austria', 9.0, 'yes', 'no')]"
            ]
          },
          "metadata": {
            "tags": []
          },
          "execution_count": 15
        }
      ]
    },
    {
      "cell_type": "markdown",
      "metadata": {
        "id": "N2FhPpkQK-QJ",
        "colab_type": "text"
      },
      "source": [
        "## 5. Performing calculations with SQL"
      ]
    },
    {
      "cell_type": "markdown",
      "metadata": {
        "colab_type": "text",
        "id": "mqifuLuwQ3wW"
      },
      "source": [
        "### <font color=\"blue\">Examples</font>"
      ]
    },
    {
      "cell_type": "code",
      "metadata": {
        "colab_type": "code",
        "id": "n8Oe5x9VQ3wX",
        "colab": {
          "base_uri": "https://localhost:8080/",
          "height": 98
        },
        "outputId": "94c38b49-1c8e-4213-a9b3-c639b0f4ad94"
      },
      "source": [
        "# Example 1\n",
        "# ---\n",
        "# We can find the average by using the AVG() function as shown\n",
        "# ---\n",
        "# \n",
        "%%sql\n",
        "SELECT MAX(temperature) FROM cities;"
      ],
      "execution_count": 16,
      "outputs": [
        {
          "output_type": "stream",
          "text": [
            " * sqlite://\n",
            "Done.\n"
          ],
          "name": "stdout"
        },
        {
          "output_type": "execute_result",
          "data": {
            "text/html": [
              "<table>\n",
              "    <tr>\n",
              "        <th>MAX(temperature)</th>\n",
              "    </tr>\n",
              "    <tr>\n",
              "        <td>18.67</td>\n",
              "    </tr>\n",
              "</table>"
            ],
            "text/plain": [
              "[(18.67,)]"
            ]
          },
          "metadata": {
            "tags": []
          },
          "execution_count": 16
        }
      ]
    },
    {
      "cell_type": "code",
      "metadata": {
        "colab_type": "code",
        "id": "AiMMLWu9Q3wc",
        "colab": {
          "base_uri": "https://localhost:8080/",
          "height": 98
        },
        "outputId": "7fedc624-35cc-464a-f0c6-d71c0ca292a0"
      },
      "source": [
        "# Example 2\n",
        "# ---\n",
        "# Which city had the highest temperature?\n",
        "# ---\n",
        "# \n",
        "%%sql \n",
        "SELECT city, MAX(temperature) FROM cities;"
      ],
      "execution_count": 19,
      "outputs": [
        {
          "output_type": "stream",
          "text": [
            " * sqlite://\n",
            "Done.\n"
          ],
          "name": "stdout"
        },
        {
          "output_type": "execute_result",
          "data": {
            "text/html": [
              "<table>\n",
              "    <tr>\n",
              "        <th>city</th>\n",
              "        <th>MAX(temperature)</th>\n",
              "    </tr>\n",
              "    <tr>\n",
              "        <td>Adana</td>\n",
              "        <td>18.67</td>\n",
              "    </tr>\n",
              "</table>"
            ],
            "text/plain": [
              "[('Adana', 18.67)]"
            ]
          },
          "metadata": {
            "tags": []
          },
          "execution_count": 19
        }
      ]
    },
    {
      "cell_type": "code",
      "metadata": {
        "id": "ZMXEhBBYMuWh",
        "colab_type": "code",
        "colab": {
          "base_uri": "https://localhost:8080/",
          "height": 889
        },
        "outputId": "ccde6221-aedc-49f3-cb48-a7d9acfa0df5"
      },
      "source": [
        "# Example 3\n",
        "# ---\n",
        "# Find the average temperature for each country\n",
        "# ---\n",
        "# \n",
        "%%sql\n",
        "SELECT country, AVG(temperature)\n",
        "FROM cities\n",
        "GROUP BY country"
      ],
      "execution_count": 23,
      "outputs": [
        {
          "output_type": "stream",
          "text": [
            " * sqlite://\n",
            "Done.\n"
          ],
          "name": "stdout"
        },
        {
          "output_type": "execute_result",
          "data": {
            "text/html": [
              "<table>\n",
              "    <tr>\n",
              "        <th>country</th>\n",
              "        <th>AVG(temperature)</th>\n",
              "    </tr>\n",
              "    <tr>\n",
              "        <td>Albania</td>\n",
              "        <td>3.0</td>\n",
              "    </tr>\n",
              "    <tr>\n",
              "        <td>Andorra</td>\n",
              "        <td>9.6</td>\n",
              "    </tr>\n",
              "    <tr>\n",
              "        <td>Austria</td>\n",
              "        <td>6.144</td>\n",
              "    </tr>\n",
              "    <tr>\n",
              "        <td>Belarus</td>\n",
              "        <td>5.946666666666666</td>\n",
              "    </tr>\n",
              "    <tr>\n",
              "        <td>Belgium</td>\n",
              "        <td>9.65</td>\n",
              "    </tr>\n",
              "    <tr>\n",
              "        <td>Bosnia and Herzegovina</td>\n",
              "        <td>9.6</td>\n",
              "    </tr>\n",
              "    <tr>\n",
              "        <td>Bulgaria</td>\n",
              "        <td>10.44</td>\n",
              "    </tr>\n",
              "    <tr>\n",
              "        <td>Croatia</td>\n",
              "        <td>10.865</td>\n",
              "    </tr>\n",
              "    <tr>\n",
              "        <td>Czech Republic</td>\n",
              "        <td>7.8566666666666665</td>\n",
              "    </tr>\n",
              "    <tr>\n",
              "        <td>Denmark</td>\n",
              "        <td>7.625</td>\n",
              "    </tr>\n",
              "    <tr>\n",
              "        <td>Estonia</td>\n",
              "        <td>4.59</td>\n",
              "    </tr>\n",
              "    <tr>\n",
              "        <td>Finland</td>\n",
              "        <td>3.4875</td>\n",
              "    </tr>\n",
              "    <tr>\n",
              "        <td>France</td>\n",
              "        <td>10.151111111111112</td>\n",
              "    </tr>\n",
              "    <tr>\n",
              "        <td>Germany</td>\n",
              "        <td>7.869285714285714</td>\n",
              "    </tr>\n",
              "    <tr>\n",
              "        <td>Greece</td>\n",
              "        <td>16.9025</td>\n",
              "    </tr>\n",
              "    <tr>\n",
              "        <td>Hungary</td>\n",
              "        <td>9.6025</td>\n",
              "    </tr>\n",
              "    <tr>\n",
              "        <td>Ireland</td>\n",
              "        <td>9.299999999999999</td>\n",
              "    </tr>\n",
              "    <tr>\n",
              "        <td>Italy</td>\n",
              "        <td>13.474666666666668</td>\n",
              "    </tr>\n",
              "    <tr>\n",
              "        <td>Kosovo</td>\n",
              "        <td>None</td>\n",
              "    </tr>\n",
              "    <tr>\n",
              "        <td>Latvia</td>\n",
              "        <td>5.27</td>\n",
              "    </tr>\n",
              "    <tr>\n",
              "        <td>Lithuania</td>\n",
              "        <td>8.3575</td>\n",
              "    </tr>\n",
              "    <tr>\n",
              "        <td>Macedonia</td>\n",
              "        <td>9.36</td>\n",
              "    </tr>\n",
              "    <tr>\n",
              "        <td>Moldova</td>\n",
              "        <td>8.415</td>\n",
              "    </tr>\n",
              "    <tr>\n",
              "        <td>Montenegro</td>\n",
              "        <td>9.99</td>\n",
              "    </tr>\n",
              "    <tr>\n",
              "        <td>Netherlands</td>\n",
              "        <td>8.756666666666668</td>\n",
              "    </tr>\n",
              "    <tr>\n",
              "        <td>Norway</td>\n",
              "        <td>3.7260000000000004</td>\n",
              "    </tr>\n",
              "    <tr>\n",
              "        <td>Poland</td>\n",
              "        <td>7.250000000000002</td>\n",
              "    </tr>\n",
              "    <tr>\n",
              "        <td>Portugal</td>\n",
              "        <td>14.469999999999999</td>\n",
              "    </tr>\n",
              "    <tr>\n",
              "        <td>Romania</td>\n",
              "        <td>9.224444444444444</td>\n",
              "    </tr>\n",
              "    <tr>\n",
              "        <td>Serbia</td>\n",
              "        <td>9.85</td>\n",
              "    </tr>\n",
              "    <tr>\n",
              "        <td>Slovakia</td>\n",
              "        <td>8.48</td>\n",
              "    </tr>\n",
              "    <tr>\n",
              "        <td>Slovenia</td>\n",
              "        <td>9.27</td>\n",
              "    </tr>\n",
              "    <tr>\n",
              "        <td>Spain</td>\n",
              "        <td>14.238333333333332</td>\n",
              "    </tr>\n",
              "    <tr>\n",
              "        <td>Sweden</td>\n",
              "        <td>3.5866666666666673</td>\n",
              "    </tr>\n",
              "    <tr>\n",
              "        <td>Switzerland</td>\n",
              "        <td>7.253333333333333</td>\n",
              "    </tr>\n",
              "    <tr>\n",
              "        <td>Turkey</td>\n",
              "        <td>11.726666666666665</td>\n",
              "    </tr>\n",
              "    <tr>\n",
              "        <td>Ukraine</td>\n",
              "        <td>7.420000000000002</td>\n",
              "    </tr>\n",
              "    <tr>\n",
              "        <td>United Kingdom</td>\n",
              "        <td>8.649999999999999</td>\n",
              "    </tr>\n",
              "</table>"
            ],
            "text/plain": [
              "[('Albania', 3.0),\n",
              " ('Andorra', 9.6),\n",
              " ('Austria', 6.144),\n",
              " ('Belarus', 5.946666666666666),\n",
              " ('Belgium', 9.65),\n",
              " ('Bosnia and Herzegovina', 9.6),\n",
              " ('Bulgaria', 10.44),\n",
              " ('Croatia', 10.865),\n",
              " ('Czech Republic', 7.8566666666666665),\n",
              " ('Denmark', 7.625),\n",
              " ('Estonia', 4.59),\n",
              " ('Finland', 3.4875),\n",
              " ('France', 10.151111111111112),\n",
              " ('Germany', 7.869285714285714),\n",
              " ('Greece', 16.9025),\n",
              " ('Hungary', 9.6025),\n",
              " ('Ireland', 9.299999999999999),\n",
              " ('Italy', 13.474666666666668),\n",
              " ('Kosovo', None),\n",
              " ('Latvia', 5.27),\n",
              " ('Lithuania', 8.3575),\n",
              " ('Macedonia', 9.36),\n",
              " ('Moldova', 8.415),\n",
              " ('Montenegro', 9.99),\n",
              " ('Netherlands', 8.756666666666668),\n",
              " ('Norway', 3.7260000000000004),\n",
              " ('Poland', 7.250000000000002),\n",
              " ('Portugal', 14.469999999999999),\n",
              " ('Romania', 9.224444444444444),\n",
              " ('Serbia', 9.85),\n",
              " ('Slovakia', 8.48),\n",
              " ('Slovenia', 9.27),\n",
              " ('Spain', 14.238333333333332),\n",
              " ('Sweden', 3.5866666666666673),\n",
              " ('Switzerland', 7.253333333333333),\n",
              " ('Turkey', 11.726666666666665),\n",
              " ('Ukraine', 7.420000000000002),\n",
              " ('United Kingdom', 8.649999999999999)]"
            ]
          },
          "metadata": {
            "tags": []
          },
          "execution_count": 23
        }
      ]
    },
    {
      "cell_type": "markdown",
      "metadata": {
        "colab_type": "text",
        "id": "TAfBKa86RWrK"
      },
      "source": [
        "### <font color=\"green\">Challenges</font> "
      ]
    },
    {
      "cell_type": "code",
      "metadata": {
        "colab_type": "code",
        "id": "SxCaNS6cRWrL",
        "colab": {
          "base_uri": "https://localhost:8080/",
          "height": 654
        },
        "outputId": "09ec0020-4a76-4009-b4d9-b166aaca1439"
      },
      "source": [
        "# Challenge 1\n",
        "# ---\n",
        "# Question: What is the average population of EU with a coastline?\n",
        "# ---\n",
        "# YOUR CODE GOES BELOW\n",
        "#\n",
        "%%sql\n",
        "\n",
        "SELECT country, AVG(population), EU FROM countries WHERE EU = \"yes\" GROUP BY country"
      ],
      "execution_count": 32,
      "outputs": [
        {
          "output_type": "stream",
          "text": [
            " * sqlite://\n",
            "Done.\n"
          ],
          "name": "stdout"
        },
        {
          "output_type": "execute_result",
          "data": {
            "text/html": [
              "<table>\n",
              "    <tr>\n",
              "        <th>country</th>\n",
              "        <th>max(population)</th>\n",
              "        <th>EU</th>\n",
              "    </tr>\n",
              "    <tr>\n",
              "        <td>Austria</td>\n",
              "        <td>9.0</td>\n",
              "        <td>yes</td>\n",
              "    </tr>\n",
              "    <tr>\n",
              "        <td>Belgium</td>\n",
              "        <td>11.37</td>\n",
              "        <td>yes</td>\n",
              "    </tr>\n",
              "    <tr>\n",
              "        <td>Bulgaria</td>\n",
              "        <td>7.1</td>\n",
              "        <td>yes</td>\n",
              "    </tr>\n",
              "    <tr>\n",
              "        <td>Croatia</td>\n",
              "        <td>4.23</td>\n",
              "        <td>yes</td>\n",
              "    </tr>\n",
              "    <tr>\n",
              "        <td>Cyprus</td>\n",
              "        <td>1.18</td>\n",
              "        <td>yes</td>\n",
              "    </tr>\n",
              "    <tr>\n",
              "        <td>Czech Republic</td>\n",
              "        <td>10.55</td>\n",
              "        <td>yes</td>\n",
              "    </tr>\n",
              "    <tr>\n",
              "        <td>Denmark</td>\n",
              "        <td>5.69</td>\n",
              "        <td>yes</td>\n",
              "    </tr>\n",
              "    <tr>\n",
              "        <td>Estonia</td>\n",
              "        <td>1.31</td>\n",
              "        <td>yes</td>\n",
              "    </tr>\n",
              "    <tr>\n",
              "        <td>Finland</td>\n",
              "        <td>5.52</td>\n",
              "        <td>yes</td>\n",
              "    </tr>\n",
              "    <tr>\n",
              "        <td>France</td>\n",
              "        <td>64.67</td>\n",
              "        <td>yes</td>\n",
              "    </tr>\n",
              "    <tr>\n",
              "        <td>Germany</td>\n",
              "        <td>80.68</td>\n",
              "        <td>yes</td>\n",
              "    </tr>\n",
              "    <tr>\n",
              "        <td>Greece</td>\n",
              "        <td>10.92</td>\n",
              "        <td>yes</td>\n",
              "    </tr>\n",
              "    <tr>\n",
              "        <td>Hungary</td>\n",
              "        <td>9.82</td>\n",
              "        <td>yes</td>\n",
              "    </tr>\n",
              "    <tr>\n",
              "        <td>Ireland</td>\n",
              "        <td>4.71</td>\n",
              "        <td>yes</td>\n",
              "    </tr>\n",
              "    <tr>\n",
              "        <td>Italy</td>\n",
              "        <td>59.8</td>\n",
              "        <td>yes</td>\n",
              "    </tr>\n",
              "    <tr>\n",
              "        <td>Latvia</td>\n",
              "        <td>1.96</td>\n",
              "        <td>yes</td>\n",
              "    </tr>\n",
              "    <tr>\n",
              "        <td>Lithuania</td>\n",
              "        <td>2.85</td>\n",
              "        <td>yes</td>\n",
              "    </tr>\n",
              "    <tr>\n",
              "        <td>Luxembourg</td>\n",
              "        <td>0.58</td>\n",
              "        <td>yes</td>\n",
              "    </tr>\n",
              "    <tr>\n",
              "        <td>Netherlands</td>\n",
              "        <td>16.98</td>\n",
              "        <td>yes</td>\n",
              "    </tr>\n",
              "    <tr>\n",
              "        <td>Poland</td>\n",
              "        <td>38.59</td>\n",
              "        <td>yes</td>\n",
              "    </tr>\n",
              "    <tr>\n",
              "        <td>Portugal</td>\n",
              "        <td>10.3</td>\n",
              "        <td>yes</td>\n",
              "    </tr>\n",
              "    <tr>\n",
              "        <td>Romania</td>\n",
              "        <td>19.37</td>\n",
              "        <td>yes</td>\n",
              "    </tr>\n",
              "    <tr>\n",
              "        <td>Slovakia</td>\n",
              "        <td>5.43</td>\n",
              "        <td>yes</td>\n",
              "    </tr>\n",
              "    <tr>\n",
              "        <td>Slovenia</td>\n",
              "        <td>2.07</td>\n",
              "        <td>yes</td>\n",
              "    </tr>\n",
              "    <tr>\n",
              "        <td>Spain</td>\n",
              "        <td>46.06</td>\n",
              "        <td>yes</td>\n",
              "    </tr>\n",
              "    <tr>\n",
              "        <td>Sweden</td>\n",
              "        <td>9.85</td>\n",
              "        <td>yes</td>\n",
              "    </tr>\n",
              "    <tr>\n",
              "        <td>United Kingdom</td>\n",
              "        <td>65.11</td>\n",
              "        <td>yes</td>\n",
              "    </tr>\n",
              "</table>"
            ],
            "text/plain": [
              "[('Austria', 9.0, 'yes'),\n",
              " ('Belgium', 11.37, 'yes'),\n",
              " ('Bulgaria', 7.1, 'yes'),\n",
              " ('Croatia', 4.23, 'yes'),\n",
              " ('Cyprus', 1.18, 'yes'),\n",
              " ('Czech Republic', 10.55, 'yes'),\n",
              " ('Denmark', 5.69, 'yes'),\n",
              " ('Estonia', 1.31, 'yes'),\n",
              " ('Finland', 5.52, 'yes'),\n",
              " ('France', 64.67, 'yes'),\n",
              " ('Germany', 80.68, 'yes'),\n",
              " ('Greece', 10.92, 'yes'),\n",
              " ('Hungary', 9.82, 'yes'),\n",
              " ('Ireland', 4.71, 'yes'),\n",
              " ('Italy', 59.8, 'yes'),\n",
              " ('Latvia', 1.96, 'yes'),\n",
              " ('Lithuania', 2.85, 'yes'),\n",
              " ('Luxembourg', 0.58, 'yes'),\n",
              " ('Netherlands', 16.98, 'yes'),\n",
              " ('Poland', 38.59, 'yes'),\n",
              " ('Portugal', 10.3, 'yes'),\n",
              " ('Romania', 19.37, 'yes'),\n",
              " ('Slovakia', 5.43, 'yes'),\n",
              " ('Slovenia', 2.07, 'yes'),\n",
              " ('Spain', 46.06, 'yes'),\n",
              " ('Sweden', 9.85, 'yes'),\n",
              " ('United Kingdom', 65.11, 'yes')]"
            ]
          },
          "metadata": {
            "tags": []
          },
          "execution_count": 32
        }
      ]
    },
    {
      "cell_type": "code",
      "metadata": {
        "colab_type": "code",
        "id": "Omc6ZrVKRWrO",
        "colab": {
          "base_uri": "https://localhost:8080/",
          "height": 1000
        },
        "outputId": "36071834-3f9f-444a-cf1f-504d39d3b04c"
      },
      "source": [
        "# Challenge 2\n",
        "# ---\n",
        "# Question: Which EU countries had temperature above the average? \n",
        "# ---\n",
        "# YOUR CODE GOES BELOW\n",
        "#\n",
        "%%sql \n",
        "\n",
        "SELECT cities.country, cities.temperature, countries.eu\n",
        "\n",
        "FROM cities\n",
        "\n",
        "INNER JOIN countries ON cities.country = countries.country \n",
        "\n",
        "WHERE EU= \"yes\" AND temperature > (select avg(temperature)from cities)\n",
        "\n"
      ],
      "execution_count": 49,
      "outputs": [
        {
          "output_type": "stream",
          "text": [
            " * sqlite://\n",
            "Done.\n"
          ],
          "name": "stdout"
        },
        {
          "output_type": "execute_result",
          "data": {
            "text/html": [
              "<table>\n",
              "    <tr>\n",
              "        <th>country</th>\n",
              "        <th>temperature</th>\n",
              "        <th>EU</th>\n",
              "    </tr>\n",
              "    <tr>\n",
              "        <td>Belgium</td>\n",
              "        <td>9.65</td>\n",
              "        <td>yes</td>\n",
              "    </tr>\n",
              "    <tr>\n",
              "        <td>Bulgaria</td>\n",
              "        <td>10.51</td>\n",
              "        <td>yes</td>\n",
              "    </tr>\n",
              "    <tr>\n",
              "        <td>Bulgaria</td>\n",
              "        <td>10.59</td>\n",
              "        <td>yes</td>\n",
              "    </tr>\n",
              "    <tr>\n",
              "        <td>Bulgaria</td>\n",
              "        <td>10.9</td>\n",
              "        <td>yes</td>\n",
              "    </tr>\n",
              "    <tr>\n",
              "        <td>Bulgaria</td>\n",
              "        <td>11.93</td>\n",
              "        <td>yes</td>\n",
              "    </tr>\n",
              "    <tr>\n",
              "        <td>Croatia</td>\n",
              "        <td>12.46</td>\n",
              "        <td>yes</td>\n",
              "    </tr>\n",
              "    <tr>\n",
              "        <td>France</td>\n",
              "        <td>9.65</td>\n",
              "        <td>yes</td>\n",
              "    </tr>\n",
              "    <tr>\n",
              "        <td>France</td>\n",
              "        <td>9.96</td>\n",
              "        <td>yes</td>\n",
              "    </tr>\n",
              "    <tr>\n",
              "        <td>France</td>\n",
              "        <td>10.17</td>\n",
              "        <td>yes</td>\n",
              "    </tr>\n",
              "    <tr>\n",
              "        <td>France</td>\n",
              "        <td>10.25</td>\n",
              "        <td>yes</td>\n",
              "    </tr>\n",
              "    <tr>\n",
              "        <td>France</td>\n",
              "        <td>10.32</td>\n",
              "        <td>yes</td>\n",
              "    </tr>\n",
              "    <tr>\n",
              "        <td>France</td>\n",
              "        <td>10.59</td>\n",
              "        <td>yes</td>\n",
              "    </tr>\n",
              "    <tr>\n",
              "        <td>France</td>\n",
              "        <td>10.95</td>\n",
              "        <td>yes</td>\n",
              "    </tr>\n",
              "    <tr>\n",
              "        <td>France</td>\n",
              "        <td>10.98</td>\n",
              "        <td>yes</td>\n",
              "    </tr>\n",
              "    <tr>\n",
              "        <td>France</td>\n",
              "        <td>11.02</td>\n",
              "        <td>yes</td>\n",
              "    </tr>\n",
              "    <tr>\n",
              "        <td>France</td>\n",
              "        <td>11.11</td>\n",
              "        <td>yes</td>\n",
              "    </tr>\n",
              "    <tr>\n",
              "        <td>France</td>\n",
              "        <td>11.87</td>\n",
              "        <td>yes</td>\n",
              "    </tr>\n",
              "    <tr>\n",
              "        <td>France</td>\n",
              "        <td>14.98</td>\n",
              "        <td>yes</td>\n",
              "    </tr>\n",
              "    <tr>\n",
              "        <td>Greece</td>\n",
              "        <td>16.0</td>\n",
              "        <td>yes</td>\n",
              "    </tr>\n",
              "    <tr>\n",
              "        <td>Greece</td>\n",
              "        <td>16.9</td>\n",
              "        <td>yes</td>\n",
              "    </tr>\n",
              "    <tr>\n",
              "        <td>Greece</td>\n",
              "        <td>17.3</td>\n",
              "        <td>yes</td>\n",
              "    </tr>\n",
              "    <tr>\n",
              "        <td>Greece</td>\n",
              "        <td>17.41</td>\n",
              "        <td>yes</td>\n",
              "    </tr>\n",
              "    <tr>\n",
              "        <td>Hungary</td>\n",
              "        <td>9.55</td>\n",
              "        <td>yes</td>\n",
              "    </tr>\n",
              "    <tr>\n",
              "        <td>Hungary</td>\n",
              "        <td>9.65</td>\n",
              "        <td>yes</td>\n",
              "    </tr>\n",
              "    <tr>\n",
              "        <td>Hungary</td>\n",
              "        <td>10.34</td>\n",
              "        <td>yes</td>\n",
              "    </tr>\n",
              "    <tr>\n",
              "        <td>Ireland</td>\n",
              "        <td>10.0</td>\n",
              "        <td>yes</td>\n",
              "    </tr>\n",
              "    <tr>\n",
              "        <td>Italy</td>\n",
              "        <td>11.21</td>\n",
              "        <td>yes</td>\n",
              "    </tr>\n",
              "    <tr>\n",
              "        <td>Italy</td>\n",
              "        <td>11.69</td>\n",
              "        <td>yes</td>\n",
              "    </tr>\n",
              "    <tr>\n",
              "        <td>Italy</td>\n",
              "        <td>11.7</td>\n",
              "        <td>yes</td>\n",
              "    </tr>\n",
              "    <tr>\n",
              "        <td>Italy</td>\n",
              "        <td>12.94</td>\n",
              "        <td>yes</td>\n",
              "    </tr>\n",
              "    <tr>\n",
              "        <td>Italy</td>\n",
              "        <td>13.52</td>\n",
              "        <td>yes</td>\n",
              "    </tr>\n",
              "    <tr>\n",
              "        <td>Italy</td>\n",
              "        <td>13.83</td>\n",
              "        <td>yes</td>\n",
              "    </tr>\n",
              "    <tr>\n",
              "        <td>Italy</td>\n",
              "        <td>15.04</td>\n",
              "        <td>yes</td>\n",
              "    </tr>\n",
              "    <tr>\n",
              "        <td>Italy</td>\n",
              "        <td>15.1</td>\n",
              "        <td>yes</td>\n",
              "    </tr>\n",
              "    <tr>\n",
              "        <td>Italy</td>\n",
              "        <td>15.13</td>\n",
              "        <td>yes</td>\n",
              "    </tr>\n",
              "    <tr>\n",
              "        <td>Italy</td>\n",
              "        <td>15.15</td>\n",
              "        <td>yes</td>\n",
              "    </tr>\n",
              "    <tr>\n",
              "        <td>Italy</td>\n",
              "        <td>16.54</td>\n",
              "        <td>yes</td>\n",
              "    </tr>\n",
              "    <tr>\n",
              "        <td>Italy</td>\n",
              "        <td>16.6</td>\n",
              "        <td>yes</td>\n",
              "    </tr>\n",
              "    <tr>\n",
              "        <td>Italy</td>\n",
              "        <td>17.9</td>\n",
              "        <td>yes</td>\n",
              "    </tr>\n",
              "    <tr>\n",
              "        <td>Lithuania</td>\n",
              "        <td>15.0</td>\n",
              "        <td>yes</td>\n",
              "    </tr>\n",
              "    <tr>\n",
              "        <td>Portugal</td>\n",
              "        <td>13.42</td>\n",
              "        <td>yes</td>\n",
              "    </tr>\n",
              "    <tr>\n",
              "        <td>Portugal</td>\n",
              "        <td>15.52</td>\n",
              "        <td>yes</td>\n",
              "    </tr>\n",
              "    <tr>\n",
              "        <td>Romania</td>\n",
              "        <td>9.78</td>\n",
              "        <td>yes</td>\n",
              "    </tr>\n",
              "    <tr>\n",
              "        <td>Romania</td>\n",
              "        <td>10.51</td>\n",
              "        <td>yes</td>\n",
              "    </tr>\n",
              "    <tr>\n",
              "        <td>Romania</td>\n",
              "        <td>10.59</td>\n",
              "        <td>yes</td>\n",
              "    </tr>\n",
              "    <tr>\n",
              "        <td>Romania</td>\n",
              "        <td>11.24</td>\n",
              "        <td>yes</td>\n",
              "    </tr>\n",
              "    <tr>\n",
              "        <td>Slovakia</td>\n",
              "        <td>9.65</td>\n",
              "        <td>yes</td>\n",
              "    </tr>\n",
              "    <tr>\n",
              "        <td>Spain</td>\n",
              "        <td>10.45</td>\n",
              "        <td>yes</td>\n",
              "    </tr>\n",
              "    <tr>\n",
              "        <td>Spain</td>\n",
              "        <td>10.85</td>\n",
              "        <td>yes</td>\n",
              "    </tr>\n",
              "    <tr>\n",
              "        <td>Spain</td>\n",
              "        <td>11.19</td>\n",
              "        <td>yes</td>\n",
              "    </tr>\n",
              "    <tr>\n",
              "        <td>Spain</td>\n",
              "        <td>11.41</td>\n",
              "        <td>yes</td>\n",
              "    </tr>\n",
              "    <tr>\n",
              "        <td>Spain</td>\n",
              "        <td>11.63</td>\n",
              "        <td>yes</td>\n",
              "    </tr>\n",
              "    <tr>\n",
              "        <td>Spain</td>\n",
              "        <td>12.62</td>\n",
              "        <td>yes</td>\n",
              "    </tr>\n",
              "    <tr>\n",
              "        <td>Spain</td>\n",
              "        <td>12.85</td>\n",
              "        <td>yes</td>\n",
              "    </tr>\n",
              "    <tr>\n",
              "        <td>Spain</td>\n",
              "        <td>13.4</td>\n",
              "        <td>yes</td>\n",
              "    </tr>\n",
              "    <tr>\n",
              "        <td>Spain</td>\n",
              "        <td>14.17</td>\n",
              "        <td>yes</td>\n",
              "    </tr>\n",
              "    <tr>\n",
              "        <td>Spain</td>\n",
              "        <td>15.0</td>\n",
              "        <td>yes</td>\n",
              "    </tr>\n",
              "    <tr>\n",
              "        <td>Spain</td>\n",
              "        <td>15.61</td>\n",
              "        <td>yes</td>\n",
              "    </tr>\n",
              "    <tr>\n",
              "        <td>Spain</td>\n",
              "        <td>15.78</td>\n",
              "        <td>yes</td>\n",
              "    </tr>\n",
              "    <tr>\n",
              "        <td>Spain</td>\n",
              "        <td>16.02</td>\n",
              "        <td>yes</td>\n",
              "    </tr>\n",
              "    <tr>\n",
              "        <td>Spain</td>\n",
              "        <td>16.33</td>\n",
              "        <td>yes</td>\n",
              "    </tr>\n",
              "    <tr>\n",
              "        <td>Spain</td>\n",
              "        <td>17.09</td>\n",
              "        <td>yes</td>\n",
              "    </tr>\n",
              "    <tr>\n",
              "        <td>Spain</td>\n",
              "        <td>17.19</td>\n",
              "        <td>yes</td>\n",
              "    </tr>\n",
              "    <tr>\n",
              "        <td>Spain</td>\n",
              "        <td>17.32</td>\n",
              "        <td>yes</td>\n",
              "    </tr>\n",
              "    <tr>\n",
              "        <td>Spain</td>\n",
              "        <td>17.38</td>\n",
              "        <td>yes</td>\n",
              "    </tr>\n",
              "    <tr>\n",
              "        <td>United Kingdom</td>\n",
              "        <td>9.73</td>\n",
              "        <td>yes</td>\n",
              "    </tr>\n",
              "    <tr>\n",
              "        <td>United Kingdom</td>\n",
              "        <td>9.97</td>\n",
              "        <td>yes</td>\n",
              "    </tr>\n",
              "    <tr>\n",
              "        <td>United Kingdom</td>\n",
              "        <td>10.14</td>\n",
              "        <td>yes</td>\n",
              "    </tr>\n",
              "</table>"
            ],
            "text/plain": [
              "[('Belgium', 9.65, 'yes'),\n",
              " ('Bulgaria', 10.51, 'yes'),\n",
              " ('Bulgaria', 10.59, 'yes'),\n",
              " ('Bulgaria', 10.9, 'yes'),\n",
              " ('Bulgaria', 11.93, 'yes'),\n",
              " ('Croatia', 12.46, 'yes'),\n",
              " ('France', 9.65, 'yes'),\n",
              " ('France', 9.96, 'yes'),\n",
              " ('France', 10.17, 'yes'),\n",
              " ('France', 10.25, 'yes'),\n",
              " ('France', 10.32, 'yes'),\n",
              " ('France', 10.59, 'yes'),\n",
              " ('France', 10.95, 'yes'),\n",
              " ('France', 10.98, 'yes'),\n",
              " ('France', 11.02, 'yes'),\n",
              " ('France', 11.11, 'yes'),\n",
              " ('France', 11.87, 'yes'),\n",
              " ('France', 14.98, 'yes'),\n",
              " ('Greece', 16.0, 'yes'),\n",
              " ('Greece', 16.9, 'yes'),\n",
              " ('Greece', 17.3, 'yes'),\n",
              " ('Greece', 17.41, 'yes'),\n",
              " ('Hungary', 9.55, 'yes'),\n",
              " ('Hungary', 9.65, 'yes'),\n",
              " ('Hungary', 10.34, 'yes'),\n",
              " ('Ireland', 10.0, 'yes'),\n",
              " ('Italy', 11.21, 'yes'),\n",
              " ('Italy', 11.69, 'yes'),\n",
              " ('Italy', 11.7, 'yes'),\n",
              " ('Italy', 12.94, 'yes'),\n",
              " ('Italy', 13.52, 'yes'),\n",
              " ('Italy', 13.83, 'yes'),\n",
              " ('Italy', 15.04, 'yes'),\n",
              " ('Italy', 15.1, 'yes'),\n",
              " ('Italy', 15.13, 'yes'),\n",
              " ('Italy', 15.15, 'yes'),\n",
              " ('Italy', 16.54, 'yes'),\n",
              " ('Italy', 16.6, 'yes'),\n",
              " ('Italy', 17.9, 'yes'),\n",
              " ('Lithuania', 15.0, 'yes'),\n",
              " ('Portugal', 13.42, 'yes'),\n",
              " ('Portugal', 15.52, 'yes'),\n",
              " ('Romania', 9.78, 'yes'),\n",
              " ('Romania', 10.51, 'yes'),\n",
              " ('Romania', 10.59, 'yes'),\n",
              " ('Romania', 11.24, 'yes'),\n",
              " ('Slovakia', 9.65, 'yes'),\n",
              " ('Spain', 10.45, 'yes'),\n",
              " ('Spain', 10.85, 'yes'),\n",
              " ('Spain', 11.19, 'yes'),\n",
              " ('Spain', 11.41, 'yes'),\n",
              " ('Spain', 11.63, 'yes'),\n",
              " ('Spain', 12.62, 'yes'),\n",
              " ('Spain', 12.85, 'yes'),\n",
              " ('Spain', 13.4, 'yes'),\n",
              " ('Spain', 14.17, 'yes'),\n",
              " ('Spain', 15.0, 'yes'),\n",
              " ('Spain', 15.61, 'yes'),\n",
              " ('Spain', 15.78, 'yes'),\n",
              " ('Spain', 16.02, 'yes'),\n",
              " ('Spain', 16.33, 'yes'),\n",
              " ('Spain', 17.09, 'yes'),\n",
              " ('Spain', 17.19, 'yes'),\n",
              " ('Spain', 17.32, 'yes'),\n",
              " ('Spain', 17.38, 'yes'),\n",
              " ('United Kingdom', 9.73, 'yes'),\n",
              " ('United Kingdom', 9.97, 'yes'),\n",
              " ('United Kingdom', 10.14, 'yes')]"
            ]
          },
          "metadata": {
            "tags": []
          },
          "execution_count": 49
        }
      ]
    },
    {
      "cell_type": "code",
      "metadata": {
        "id": "7tYbGdzOoFdk",
        "colab_type": "code",
        "colab": {
          "base_uri": "https://localhost:8080/",
          "height": 98
        },
        "outputId": "49c1bad3-114b-4433-ebb2-bf86ebc51de5"
      },
      "source": [
        "# Challenge 3\n",
        "# ---\n",
        "# Which EU country had the lowest population?\n",
        "# ---\n",
        "# YOUR CODE GOES BELOW\n",
        "#\n",
        "\n",
        "%%sql\n",
        "\n",
        "SELECT country, MIN(population), EU FROM countries WHERE EU = \"yes\""
      ],
      "execution_count": 51,
      "outputs": [
        {
          "output_type": "stream",
          "text": [
            " * sqlite://\n",
            "Done.\n"
          ],
          "name": "stdout"
        },
        {
          "output_type": "execute_result",
          "data": {
            "text/html": [
              "<table>\n",
              "    <tr>\n",
              "        <th>country</th>\n",
              "        <th>MIN(population)</th>\n",
              "        <th>EU</th>\n",
              "    </tr>\n",
              "    <tr>\n",
              "        <td>Luxembourg</td>\n",
              "        <td>0.58</td>\n",
              "        <td>yes</td>\n",
              "    </tr>\n",
              "</table>"
            ],
            "text/plain": [
              "[('Luxembourg', 0.58, 'yes')]"
            ]
          },
          "metadata": {
            "tags": []
          },
          "execution_count": 51
        }
      ]
    },
    {
      "cell_type": "markdown",
      "metadata": {
        "id": "k87FSElQJpZu",
        "colab_type": "text"
      },
      "source": [
        "## 6. Creating SQL tables"
      ]
    },
    {
      "cell_type": "markdown",
      "metadata": {
        "colab_type": "text",
        "id": "wW3wZgvdQjqP"
      },
      "source": [
        "### <font color=\"blue\">Examples</font>"
      ]
    },
    {
      "cell_type": "code",
      "metadata": {
        "colab_type": "code",
        "id": "cAm4uz3UQjqR",
        "colab": {
          "base_uri": "https://localhost:8080/",
          "height": 72
        },
        "outputId": "f8e78acb-ad4c-4306-9c8d-cd5bc9e9360f"
      },
      "source": [
        "# Example 1\n",
        "# ---\n",
        "# As we had seen, we can create a table using the following create table statement.\n",
        "# If the table doesn't exist, then we create a table with the columns; \n",
        "# store_id, name, owner, description, phone, opening_date.\n",
        "# --- \n",
        "#\n",
        "%%sql \n",
        "CREATE TABLE IF NOT EXISTS stores (\n",
        "    store_id, \n",
        "    name, \n",
        "    owner, \n",
        "    description, \n",
        "    phone,\n",
        "    opening_date\n",
        "); "
      ],
      "execution_count": 52,
      "outputs": [
        {
          "output_type": "stream",
          "text": [
            " * sqlite://\n",
            "Done.\n"
          ],
          "name": "stdout"
        },
        {
          "output_type": "execute_result",
          "data": {
            "text/plain": [
              "[]"
            ]
          },
          "metadata": {
            "tags": []
          },
          "execution_count": 52
        }
      ]
    },
    {
      "cell_type": "code",
      "metadata": {
        "id": "RN97rJGv2rgp",
        "colab_type": "code",
        "colab": {
          "base_uri": "https://localhost:8080/",
          "height": 77
        },
        "outputId": "ddfa2bdc-a1a3-4173-b0e2-3df2e72ea326"
      },
      "source": [
        "# We will then use the SELECT statement to check whether the table has been created. \n",
        "#  - Don't worry about the SELECT statement, we will get to practice \n",
        "#    more how to use it. For now, just know that statement SELECTs\n",
        "#    all the records in the specified table.\n",
        "#  - We use a single % to execute a single sql statement in our notebook environment as shown\n",
        "# ---\n",
        "%sql SELECT * FROM stores;"
      ],
      "execution_count": 53,
      "outputs": [
        {
          "output_type": "stream",
          "text": [
            " * sqlite://\n",
            "Done.\n"
          ],
          "name": "stdout"
        },
        {
          "output_type": "execute_result",
          "data": {
            "text/html": [
              "<table>\n",
              "    <tr>\n",
              "        <th>store_id</th>\n",
              "        <th>name</th>\n",
              "        <th>owner</th>\n",
              "        <th>description</th>\n",
              "        <th>phone</th>\n",
              "        <th>opening_date</th>\n",
              "    </tr>\n",
              "</table>"
            ],
            "text/plain": [
              "[]"
            ]
          },
          "metadata": {
            "tags": []
          },
          "execution_count": 53
        }
      ]
    },
    {
      "cell_type": "code",
      "metadata": {
        "id": "do37EYPz83NA",
        "colab_type": "code",
        "colab": {
          "base_uri": "https://localhost:8080/",
          "height": 95
        },
        "outputId": "9230a13a-0d93-4dea-9f5a-a390a45367d8"
      },
      "source": [
        "# Example 2\n",
        "# ---\n",
        "# While creating our table we can also specify different \n",
        "# data types as shown below;  \n",
        "#\n",
        "%%sql \n",
        "CREATE TABLE IF NOT EXISTS stores_two (\n",
        "    store_id int, \n",
        "    name varchar(60), \n",
        "    owner varchar(60), \n",
        "    description text, \n",
        "    phone varchar(15),\n",
        "    opening_date date \n",
        "); \n",
        "SELECT * FROM stores_two;"
      ],
      "execution_count": 54,
      "outputs": [
        {
          "output_type": "stream",
          "text": [
            " * sqlite://\n",
            "Done.\n",
            "Done.\n"
          ],
          "name": "stdout"
        },
        {
          "output_type": "execute_result",
          "data": {
            "text/html": [
              "<table>\n",
              "    <tr>\n",
              "        <th>store_id</th>\n",
              "        <th>name</th>\n",
              "        <th>owner</th>\n",
              "        <th>description</th>\n",
              "        <th>phone</th>\n",
              "        <th>opening_date</th>\n",
              "    </tr>\n",
              "</table>"
            ],
            "text/plain": [
              "[]"
            ]
          },
          "metadata": {
            "tags": []
          },
          "execution_count": 54
        }
      ]
    },
    {
      "cell_type": "code",
      "metadata": {
        "id": "W6OPIb4xDeDu",
        "colab_type": "code",
        "colab": {
          "base_uri": "https://localhost:8080/",
          "height": 95
        },
        "outputId": "b58529b8-13c3-4ed0-cd0f-7ecf635cbb17"
      },
      "source": [
        "# Example 3\n",
        "# ---\n",
        "# We can also specify default values while creating our table \n",
        "# by use the default keyword as shown below \n",
        "# \n",
        "%%sql \n",
        "CREATE TABLE IF NOT EXISTS stores_three (\n",
        "    store_id int primary key, \n",
        "    name varchar(60), \n",
        "    owner varchar(60) default 'Unknown', \n",
        "    description text, \n",
        "    phone varchar(15),\n",
        "    opening_date date \n",
        "); \n",
        "SELECT * FROM stores_three;"
      ],
      "execution_count": 55,
      "outputs": [
        {
          "output_type": "stream",
          "text": [
            " * sqlite://\n",
            "Done.\n",
            "Done.\n"
          ],
          "name": "stdout"
        },
        {
          "output_type": "execute_result",
          "data": {
            "text/html": [
              "<table>\n",
              "    <tr>\n",
              "        <th>store_id</th>\n",
              "        <th>name</th>\n",
              "        <th>owner</th>\n",
              "        <th>description</th>\n",
              "        <th>phone</th>\n",
              "        <th>opening_date</th>\n",
              "    </tr>\n",
              "</table>"
            ],
            "text/plain": [
              "[]"
            ]
          },
          "metadata": {
            "tags": []
          },
          "execution_count": 55
        }
      ]
    },
    {
      "cell_type": "markdown",
      "metadata": {
        "colab_type": "text",
        "id": "cysEaZORQ_Zw"
      },
      "source": [
        "### <font color=\"green\">Challenges</font> "
      ]
    },
    {
      "cell_type": "code",
      "metadata": {
        "colab_type": "code",
        "id": "QTrbMmgZQ_Z3",
        "colab": {
          "base_uri": "https://localhost:8080/",
          "height": 72
        },
        "outputId": "eb96fc1f-bf50-474a-d11c-17c9b5cff62f"
      },
      "source": [
        "# Challenge 1\n",
        "# ---\n",
        "# Question: Create a table named televisions with the following fields; \n",
        "# name, model, company, screen, price, warranty. \n",
        "# ---\n",
        "# YOUR CODE GOES BELOW\n",
        "# \n",
        "%%sql\n",
        " CREATE TABLE IF NOT EXISTS televisions(\n",
        "     name varchar(20),\n",
        "     model varchar(20),\n",
        "     company varchar(30),\n",
        "     screen,\n",
        "     price int,\n",
        "     warranty\n",
        " )\n"
      ],
      "execution_count": 56,
      "outputs": [
        {
          "output_type": "stream",
          "text": [
            " * sqlite://\n",
            "Done.\n"
          ],
          "name": "stdout"
        },
        {
          "output_type": "execute_result",
          "data": {
            "text/plain": [
              "[]"
            ]
          },
          "metadata": {
            "tags": []
          },
          "execution_count": 56
        }
      ]
    },
    {
      "cell_type": "code",
      "metadata": {
        "colab_type": "code",
        "id": "GYxUKJ8JQ_Z9",
        "colab": {
          "base_uri": "https://localhost:8080/",
          "height": 95
        },
        "outputId": "767333e9-836b-4240-f0ca-b0a3725ace9c"
      },
      "source": [
        "# Challenge 2\n",
        "# ---\n",
        "# Question: Create a table called staff that stores staff_number, name, \n",
        "# department, salary, phone, address using appropriate data types,\n",
        "# applying the appropriate datatype and default value of \"unknown\" for\n",
        "# for the field phone.\n",
        "# --- \n",
        "# YOUR CODE GOES BELOW\n",
        "# \n",
        "\n",
        "%%sql\n",
        "\n",
        "CREATE TABLE IF NOT EXISTS staff (\n",
        "    staff_number int,\n",
        "    name varchar(20),\n",
        "    department varchar(20),\n",
        "    salary int,\n",
        "    phone default 'unknown',\n",
        "    addres varchar(20)\n",
        ");\n",
        "\n",
        "select * FROM staff"
      ],
      "execution_count": 62,
      "outputs": [
        {
          "output_type": "stream",
          "text": [
            " * sqlite://\n",
            "Done.\n",
            "Done.\n"
          ],
          "name": "stdout"
        },
        {
          "output_type": "execute_result",
          "data": {
            "text/html": [
              "<table>\n",
              "    <tr>\n",
              "        <th>staff_number</th>\n",
              "        <th>name</th>\n",
              "        <th>department</th>\n",
              "        <th>salary</th>\n",
              "        <th>phone</th>\n",
              "        <th>addres</th>\n",
              "    </tr>\n",
              "</table>"
            ],
            "text/plain": [
              "[]"
            ]
          },
          "metadata": {
            "tags": []
          },
          "execution_count": 62
        }
      ]
    },
    {
      "cell_type": "markdown",
      "metadata": {
        "colab_type": "text",
        "id": "FEaCEc_o3t38"
      },
      "source": [
        "## 7. Altering SQL tables"
      ]
    },
    {
      "cell_type": "markdown",
      "metadata": {
        "colab_type": "text",
        "id": "Ncuq_Y3e3t39"
      },
      "source": [
        "### <font color=\"blue\">Examples</font>"
      ]
    },
    {
      "cell_type": "code",
      "metadata": {
        "colab_type": "code",
        "id": "NNN3DnuA3t3-",
        "colab": {
          "base_uri": "https://localhost:8080/",
          "height": 95
        },
        "outputId": "61cf83a7-3dbe-493b-d7cf-3d4c498bec5f"
      },
      "source": [
        "# Example 1\n",
        "# ---\n",
        "# The name of a table can be changed by doing the following.\n",
        "# and again check whether our change was made by using the \n",
        "# SELECT statement.\n",
        "# ---\n",
        "#\n",
        "%%sql  \n",
        "ALTER TABLE stores RENAME TO supermarket_stores;\n",
        "\n",
        "SELECT * FROM supermarket_stores;"
      ],
      "execution_count": 63,
      "outputs": [
        {
          "output_type": "stream",
          "text": [
            " * sqlite://\n",
            "Done.\n",
            "Done.\n"
          ],
          "name": "stdout"
        },
        {
          "output_type": "execute_result",
          "data": {
            "text/html": [
              "<table>\n",
              "    <tr>\n",
              "        <th>store_id</th>\n",
              "        <th>name</th>\n",
              "        <th>owner</th>\n",
              "        <th>description</th>\n",
              "        <th>phone</th>\n",
              "        <th>opening_date</th>\n",
              "    </tr>\n",
              "</table>"
            ],
            "text/plain": [
              "[]"
            ]
          },
          "metadata": {
            "tags": []
          },
          "execution_count": 63
        }
      ]
    },
    {
      "cell_type": "code",
      "metadata": {
        "colab_type": "code",
        "id": "NeGxCC_b3t4C",
        "colab": {
          "base_uri": "https://localhost:8080/",
          "height": 95
        },
        "outputId": "c43c07df-ab5b-4b61-c5f8-8bf7e09899cc"
      },
      "source": [
        "# Example 2\n",
        "# ---\n",
        "# We can add a field by doing the following.\n",
        "# Then check whether our new field was added to the \n",
        "# specified table by doing the following.\n",
        "# ---\n",
        "#\n",
        "%%sql \n",
        "ALTER TABLE supermarket_stores ADD country;\n",
        " \n",
        "SELECT * FROM supermarket_stores;"
      ],
      "execution_count": 64,
      "outputs": [
        {
          "output_type": "stream",
          "text": [
            " * sqlite://\n",
            "Done.\n",
            "Done.\n"
          ],
          "name": "stdout"
        },
        {
          "output_type": "execute_result",
          "data": {
            "text/html": [
              "<table>\n",
              "    <tr>\n",
              "        <th>store_id</th>\n",
              "        <th>name</th>\n",
              "        <th>owner</th>\n",
              "        <th>description</th>\n",
              "        <th>phone</th>\n",
              "        <th>opening_date</th>\n",
              "        <th>country</th>\n",
              "    </tr>\n",
              "</table>"
            ],
            "text/plain": [
              "[]"
            ]
          },
          "metadata": {
            "tags": []
          },
          "execution_count": 64
        }
      ]
    },
    {
      "cell_type": "markdown",
      "metadata": {
        "colab_type": "text",
        "id": "V_wMiubB3t4I"
      },
      "source": [
        "### <font color=\"green\">Challenges</font> "
      ]
    },
    {
      "cell_type": "code",
      "metadata": {
        "colab_type": "code",
        "id": "rHVRj0bq3t4I",
        "colab": {
          "base_uri": "https://localhost:8080/",
          "height": 95
        },
        "outputId": "08e156a2-93a7-48f1-b927-a2cb31ba061e"
      },
      "source": [
        "# Challenge 1\n",
        "# ---\n",
        "# Rename the table televisions to tvs\n",
        "# ---\n",
        "# YOUR CODE GOES BELOW\n",
        "#\n",
        "\n",
        "%%sql \n",
        "\n",
        "ALTER TABLE televisions RENAME TO tvs;\n",
        "\n",
        "SELECT * FROM tvs"
      ],
      "execution_count": 66,
      "outputs": [
        {
          "output_type": "stream",
          "text": [
            " * sqlite://\n",
            "Done.\n",
            "Done.\n"
          ],
          "name": "stdout"
        },
        {
          "output_type": "execute_result",
          "data": {
            "text/html": [
              "<table>\n",
              "    <tr>\n",
              "        <th>name</th>\n",
              "        <th>model</th>\n",
              "        <th>company</th>\n",
              "        <th>screen</th>\n",
              "        <th>price</th>\n",
              "        <th>warranty</th>\n",
              "    </tr>\n",
              "</table>"
            ],
            "text/plain": [
              "[]"
            ]
          },
          "metadata": {
            "tags": []
          },
          "execution_count": 66
        }
      ]
    },
    {
      "cell_type": "code",
      "metadata": {
        "colab_type": "code",
        "id": "8e-3z4aS3t4L",
        "colab": {
          "base_uri": "https://localhost:8080/",
          "height": 95
        },
        "outputId": "928f67a0-0184-4215-a963-98024885fd0a"
      },
      "source": [
        "# Challenge 2\n",
        "# ---\n",
        "# Add a field description with the data type text to televisions table \n",
        "# ---\n",
        "# YOUR CODE GOES BELOW\n",
        "#\n",
        "\n",
        "%%sql\n",
        "\n",
        "ALTER TABLE tvs\n",
        "ADD text;\n",
        "\n",
        "SELECT * FROM tvs"
      ],
      "execution_count": 67,
      "outputs": [
        {
          "output_type": "stream",
          "text": [
            " * sqlite://\n",
            "Done.\n",
            "Done.\n"
          ],
          "name": "stdout"
        },
        {
          "output_type": "execute_result",
          "data": {
            "text/html": [
              "<table>\n",
              "    <tr>\n",
              "        <th>name</th>\n",
              "        <th>model</th>\n",
              "        <th>company</th>\n",
              "        <th>screen</th>\n",
              "        <th>price</th>\n",
              "        <th>warranty</th>\n",
              "        <th>text</th>\n",
              "    </tr>\n",
              "</table>"
            ],
            "text/plain": [
              "[]"
            ]
          },
          "metadata": {
            "tags": []
          },
          "execution_count": 67
        }
      ]
    },
    {
      "cell_type": "markdown",
      "metadata": {
        "id": "kS0Su6b-KNS_",
        "colab_type": "text"
      },
      "source": [
        "## 8. Dropping a table"
      ]
    },
    {
      "cell_type": "markdown",
      "metadata": {
        "colab_type": "text",
        "id": "pYD3vlpCIkwD"
      },
      "source": [
        "### <font color=\"blue\">Examples</font>"
      ]
    },
    {
      "cell_type": "code",
      "metadata": {
        "colab_type": "code",
        "id": "LFalTGJ8IkwH",
        "colab": {
          "base_uri": "https://localhost:8080/",
          "height": 72
        },
        "outputId": "555cb636-9b3e-474e-ba18-a8e5b0ebbce6"
      },
      "source": [
        "# Example 1\n",
        "# ---\n",
        "# We can drop (or delete) our table as shown below\n",
        "# ---\n",
        "# \n",
        "%sql DROP TABLE supermarket_stores;"
      ],
      "execution_count": 68,
      "outputs": [
        {
          "output_type": "stream",
          "text": [
            " * sqlite://\n",
            "Done.\n"
          ],
          "name": "stdout"
        },
        {
          "output_type": "execute_result",
          "data": {
            "text/plain": [
              "[]"
            ]
          },
          "metadata": {
            "tags": []
          },
          "execution_count": 68
        }
      ]
    },
    {
      "cell_type": "markdown",
      "metadata": {
        "colab_type": "text",
        "id": "LpEKaiDNRAXS"
      },
      "source": [
        "### <font color=\"green\">Challenges</font> "
      ]
    },
    {
      "cell_type": "code",
      "metadata": {
        "colab_type": "code",
        "id": "TG6J7uycRAXT",
        "colab": {
          "base_uri": "https://localhost:8080/",
          "height": 72
        },
        "outputId": "614ef913-de7b-402d-be26-ff58d27eb06b"
      },
      "source": [
        "# Challenge 1\n",
        "# ---\n",
        "# Question: Drop the tvs table from our database\n",
        "# ---\n",
        "# YOUR CODE GOES BELOW\n",
        "# \n",
        "\n",
        "%sql DROP TABLE tvs;"
      ],
      "execution_count": 69,
      "outputs": [
        {
          "output_type": "stream",
          "text": [
            " * sqlite://\n",
            "Done.\n"
          ],
          "name": "stdout"
        },
        {
          "output_type": "execute_result",
          "data": {
            "text/plain": [
              "[]"
            ]
          },
          "metadata": {
            "tags": []
          },
          "execution_count": 69
        }
      ]
    }
  ]
}